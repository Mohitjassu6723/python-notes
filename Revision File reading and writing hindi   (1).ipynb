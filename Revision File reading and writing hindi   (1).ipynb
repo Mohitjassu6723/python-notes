{
  "metadata": {
    "kernelspec": {
      "name": "python",
      "display_name": "Python (Pyodide)",
      "language": "python"
    },
    "language_info": {
      "codemirror_mode": {
        "name": "python",
        "version": 3
      },
      "file_extension": ".py",
      "mimetype": "text/x-python",
      "name": "python",
      "nbconvert_exporter": "python",
      "pygments_lexer": "ipython3",
      "version": "3.8"
    },
    "colab": {
      "provenance": []
    }
  },
  "nbformat_minor": 5,
  "nbformat": 4,
  "cells": [
    {
      "id": "efdf4606-1087-46cd-829c-544ed21edc44",
      "cell_type": "code",
      "source": "# Here i will also study the various kinds of file operaton.",
      "metadata": {
        "trusted": true
      },
      "outputs": [],
      "execution_count": null
    },
    {
      "id": "69bb4cc3-3bd9-4448-b761-2dfa9a677192",
      "cell_type": "code",
      "source": "data= {\n    \"name\" : \"sudh\",\n    \"mail_id\" : \"sudh@gmail.com\",\n    \"phone number\" : 956456546,\n    \"subject\" : [\"data science \" , \"big data \" , \"data analytics\" ]\n}",
      "metadata": {
        "id": "69bb4cc3-3bd9-4448-b761-2dfa9a677192",
        "executionInfo": {
          "status": "ok",
          "timestamp": 1690307873993,
          "user_tz": -330,
          "elapsed": 16,
          "user": {
            "displayName": "Radheshyam Vishwakarma",
            "userId": "13824352053732149487"
          }
        }
      },
      "outputs": [],
      "execution_count": 1
    },
    {
      "id": "e000c6ac-9822-4864-92be-536e6d7b846e",
      "cell_type": "code",
      "source": "#  This kind of data set is also called as JSON dataset i.e. Java Script Object Notation data set.\n# Because here data is in the form of key value pair.",
      "metadata": {
        "trusted": true
      },
      "outputs": [],
      "execution_count": 1
    },
    {
      "id": "ad899eeb-355b-4097-a70c-27803788fb30",
      "cell_type": "code",
      "source": "import json",
      "metadata": {
        "id": "ad899eeb-355b-4097-a70c-27803788fb30",
        "executionInfo": {
          "status": "ok",
          "timestamp": 1690307873993,
          "user_tz": -330,
          "elapsed": 14,
          "user": {
            "displayName": "Radheshyam Vishwakarma",
            "userId": "13824352053732149487"
          }
        }
      },
      "outputs": [],
      "execution_count": 2
    },
    {
      "id": "7d1f4a55-87e9-4740-86c2-28e9c73ba7fe",
      "cell_type": "code",
      "source": "# \"json\" module has tje capability to perform various operartions like write, read, append on dictionary.",
      "metadata": {
        "trusted": true
      },
      "outputs": [],
      "execution_count": 2
    },
    {
      "id": "0b6e9b1f-24c6-4180-a957-a9e62092c2ea",
      "cell_type": "code",
      "source": "with open(\"data.json\" , \"w\" ) as f :\n    json.dump(data , f)",
      "metadata": {
        "id": "0b6e9b1f-24c6-4180-a957-a9e62092c2ea",
        "executionInfo": {
          "status": "ok",
          "timestamp": 1690307873994,
          "user_tz": -330,
          "elapsed": 14,
          "user": {
            "displayName": "Radheshyam Vishwakarma",
            "userId": "13824352053732149487"
          }
        }
      },
      "outputs": [],
      "execution_count": 3
    },
    {
      "id": "8bfbff1f-cee0-4365-aab1-e89fdd93e34c",
      "cell_type": "code",
      "source": "# json.dump() is used to perform the write operation.",
      "metadata": {
        "trusted": true
      },
      "outputs": [],
      "execution_count": null
    },
    {
      "id": "ff7ffb92-e4a1-41fd-adb7-7a71fc56133d",
      "cell_type": "code",
      "source": "# \"dump()\" helps in writing.",
      "metadata": {
        "trusted": true
      },
      "outputs": [],
      "execution_count": null
    },
    {
      "id": "5ab4fbbb-f9cf-4404-b087-e896c581763b",
      "cell_type": "code",
      "source": "# now the file is created.",
      "metadata": {
        "trusted": true
      },
      "outputs": [],
      "execution_count": 3
    },
    {
      "id": "b55d20c5-c7b3-4fdd-a121-9c1d93ded537",
      "cell_type": "code",
      "source": "# \".json\" is an extension for dictionary",
      "metadata": {
        "trusted": true
      },
      "outputs": [],
      "execution_count": 9
    },
    {
      "id": "1bc8850c-184c-4dcf-aa16-d19132da670d",
      "cell_type": "code",
      "source": "with open(\"data.json\" , \"r\") as f :\n    data1 = json.load(f)",
      "metadata": {
        "id": "1bc8850c-184c-4dcf-aa16-d19132da670d",
        "executionInfo": {
          "status": "ok",
          "timestamp": 1690307873994,
          "user_tz": -330,
          "elapsed": 14,
          "user": {
            "displayName": "Radheshyam Vishwakarma",
            "userId": "13824352053732149487"
          }
        }
      },
      "outputs": [],
      "execution_count": 4
    },
    {
      "id": "b17adcfe-bc7a-4d1b-8deb-30c6c504cfe1",
      "cell_type": "code",
      "source": "# json.load() is used to perform the read operation\n",
      "metadata": {
        "trusted": true
      },
      "outputs": [],
      "execution_count": 4
    },
    {
      "id": "ed04089f-cffa-43b6-9e9d-bfbe2e1542b7",
      "cell_type": "code",
      "source": "data1",
      "metadata": {
        "id": "ed04089f-cffa-43b6-9e9d-bfbe2e1542b7",
        "executionInfo": {
          "status": "ok",
          "timestamp": 1690307873994,
          "user_tz": -330,
          "elapsed": 13,
          "user": {
            "displayName": "Radheshyam Vishwakarma",
            "userId": "13824352053732149487"
          }
        },
        "outputId": "7bbf95eb-4889-4a1d-c836-d36e0a06476c",
        "colab": {
          "base_uri": "https://localhost:8080/"
        }
      },
      "outputs": [
        {
          "output_type": "execute_result",
          "data": {
            "text/plain": [
              "{'name': 'sudh',\n",
              " 'mail_id': 'sudh@gmail.com',\n",
              " 'phone number': 956456546,\n",
              " 'subject': ['data science ', 'big data ', 'data analytics']}"
            ]
          },
          "metadata": {},
          "execution_count": 5
        }
      ],
      "execution_count": 5
    },
    {
      "id": "8a69b821-5b4b-4099-93bf-95a3ac6f0a0b",
      "cell_type": "code",
      "source": "data1['subject'][1]",
      "metadata": {
        "id": "8a69b821-5b4b-4099-93bf-95a3ac6f0a0b",
        "executionInfo": {
          "status": "ok",
          "timestamp": 1690307874465,
          "user_tz": -330,
          "elapsed": 479,
          "user": {
            "displayName": "Radheshyam Vishwakarma",
            "userId": "13824352053732149487"
          }
        },
        "outputId": "931f035a-efe6-403e-e75b-f0d94ef65817",
        "colab": {
          "base_uri": "https://localhost:8080/",
          "height": 36
        }
      },
      "outputs": [
        {
          "output_type": "execute_result",
          "data": {
            "text/plain": [
              "'big data '"
            ],
            "application/vnd.google.colaboratory.intrinsic+json": {
              "type": "string"
            }
          },
          "metadata": {},
          "execution_count": 6
        }
      ],
      "execution_count": 6
    },
    {
      "id": "8ce1a39c-7bd8-49e1-be80-c3bab7db9740",
      "cell_type": "code",
      "source": "import csv",
      "metadata": {
        "id": "8ce1a39c-7bd8-49e1-be80-c3bab7db9740",
        "executionInfo": {
          "status": "ok",
          "timestamp": 1690307874466,
          "user_tz": -330,
          "elapsed": 19,
          "user": {
            "displayName": "Radheshyam Vishwakarma",
            "userId": "13824352053732149487"
          }
        }
      },
      "outputs": [],
      "execution_count": 7
    },
    {
      "id": "1a3f53ec-b8a5-4a69-b4f9-bee85ec1a7fb",
      "cell_type": "code",
      "source": "# csv:- comma seperated values.\n# csv :- it is module to perform the various operations on files which contains comma seperated values like 1,2,3,45,6 etc.",
      "metadata": {
        "trusted": true
      },
      "outputs": [],
      "execution_count": null
    },
    {
      "id": "f9b40dae-e35d-4cf7-bcff-d95449383e26",
      "cell_type": "code",
      "source": "data = [[\"name\" , \"email_id\" , \"phone_number\"],\n        [\"sudh\" ,\"sudh@gmail.com\" , 92342424],\n        [\"krish\" , \"krish@gmail.com\" , 9324242]\n]",
      "metadata": {
        "id": "f9b40dae-e35d-4cf7-bcff-d95449383e26",
        "executionInfo": {
          "status": "ok",
          "timestamp": 1690307874466,
          "user_tz": -330,
          "elapsed": 18,
          "user": {
            "displayName": "Radheshyam Vishwakarma",
            "userId": "13824352053732149487"
          }
        }
      },
      "outputs": [],
      "execution_count": 8
    },
    {
      "id": "c3c68007-fd47-4dc2-94dc-11d9634f5b96",
      "cell_type": "code",
      "source": "with open(\"data.csv\" , \"w\" ) as f :\n    writer = csv.writer(f)\n\n    for i in data:\n        writer.writerow(i)\n\n",
      "metadata": {
        "id": "c3c68007-fd47-4dc2-94dc-11d9634f5b96",
        "executionInfo": {
          "status": "ok",
          "timestamp": 1690307874467,
          "user_tz": -330,
          "elapsed": 19,
          "user": {
            "displayName": "Radheshyam Vishwakarma",
            "userId": "13824352053732149487"
          }
        }
      },
      "outputs": [],
      "execution_count": 9
    },
    {
      "id": "9ba73fd2-bebf-4445-abd6-912ca7bee1e4",
      "cell_type": "code",
      "source": "# using this \"writer()\", the file is created and data is written in it.",
      "metadata": {
        "trusted": true
      },
      "outputs": [],
      "execution_count": 5
    },
    {
      "id": "8da0e12d-5244-4bb2-b7d8-2aeb4a13b258",
      "cell_type": "code",
      "source": "with open(\"data.csv\" , 'r') as f :\n    read_data = csv.reader(f)\n\n    for i in read_data:\n        print(i)",
      "metadata": {
        "id": "8da0e12d-5244-4bb2-b7d8-2aeb4a13b258",
        "executionInfo": {
          "status": "ok",
          "timestamp": 1690307874468,
          "user_tz": -330,
          "elapsed": 19,
          "user": {
            "displayName": "Radheshyam Vishwakarma",
            "userId": "13824352053732149487"
          }
        },
        "outputId": "bf8aa5b2-1a60-4a48-f31b-3661608c391e",
        "colab": {
          "base_uri": "https://localhost:8080/"
        }
      },
      "outputs": [
        {
          "output_type": "stream",
          "name": "stdout",
          "text": [
            "['name', 'email_id', 'phone_number']\n",
            "['sudh', 'sudh@gmail.com', '92342424']\n",
            "['krish', 'krish@gmail.com', '9324242']\n"
          ]
        }
      ],
      "execution_count": 10
    },
    {
      "id": "80299545-5b98-4406-84ef-95f3733ac867",
      "cell_type": "code",
      "source": "# using this \"reader()\" here, i can read the data in the output.",
      "metadata": {
        "trusted": true
      },
      "outputs": [],
      "execution_count": 6
    },
    {
      "id": "00e49636-2ed9-4220-81b3-c57363760d62",
      "cell_type": "code",
      "source": "# \".csv\" is an extension for csv files",
      "metadata": {
        "trusted": true
      },
      "outputs": [],
      "execution_count": 10
    },
    {
      "id": "6ab8f6d6-475e-4634-bcd8-794251ebde06",
      "cell_type": "code",
      "source": "# Now, i will study about the binary data.\n\n",
      "metadata": {
        "trusted": true
      },
      "outputs": [],
      "execution_count": 7
    },
    {
      "id": "b8ed2415-8776-4fad-b79f-9bbf5cac343f",
      "cell_type": "code",
      "source": "# Binary data :- It is a data  which is in the form of \"0\" and \"1\". \n# We can't read it directly. As it is available in the formof machine lower language\n\n# audio files , video files , image files are stored in the opeerating system in the form of binary data. Example if i open a image file in the word, i can see it in the form of binary data.\n",
      "metadata": {
        "trusted": true
      },
      "outputs": [],
      "execution_count": null
    },
    {
      "id": "d43a30f8-e102-4814-bdba-d948a063b6f1",
      "cell_type": "code",
      "source": "with open(\"test4.bin\" , \"wb\" ) as f :\n    f.write(b\"\\x01\\x02\\x03\\x3454235\")     ",
      "metadata": {
        "id": "d43a30f8-e102-4814-bdba-d948a063b6f1",
        "executionInfo": {
          "status": "ok",
          "timestamp": 1690307874469,
          "user_tz": -330,
          "elapsed": 17,
          "user": {
            "displayName": "Radheshyam Vishwakarma",
            "userId": "13824352053732149487"
          }
        }
      },
      "outputs": [],
      "execution_count": 11
    },
    {
      "id": "a0f42840-3752-48a9-830f-676415975548",
      "cell_type": "code",
      "source": "# with open(\"test4.bin\" , \"wb\" ) as f :          #  \"wb\" stands for write binary\n#     f.write(b\"\\x01\\x02\\x03\\x3454235\")     # here \"b\" stands for binary\n  #  \"x01\\x02\\x03\\x3454235\" is a   Hexa deciaml decimal format ",
      "metadata": {
        "id": "d43a30f8-e102-4814-bdba-d948a063b6f1",
        "executionInfo": {
          "status": "ok",
          "timestamp": 1690307874469,
          "user_tz": -330,
          "elapsed": 17,
          "user": {
            "displayName": "Radheshyam Vishwakarma",
            "userId": "13824352053732149487"
          }
        },
        "trusted": true
      },
      "outputs": [],
      "execution_count": 11
    },
    {
      "id": "90da0648-9bfe-4c7c-a30b-7345ed23a44e",
      "cell_type": "code",
      "source": "with open(\"test4.bin\",\"rb\")as f :\n    print(f.read())",
      "metadata": {
        "id": "90da0648-9bfe-4c7c-a30b-7345ed23a44e",
        "executionInfo": {
          "status": "ok",
          "timestamp": 1690307874469,
          "user_tz": -330,
          "elapsed": 17,
          "user": {
            "displayName": "Radheshyam Vishwakarma",
            "userId": "13824352053732149487"
          }
        },
        "outputId": "6510647a-9790-4b98-94c1-55d3875d52f6",
        "colab": {
          "base_uri": "https://localhost:8080/"
        }
      },
      "outputs": [
        {
          "output_type": "stream",
          "name": "stdout",
          "text": [
            "b'\\x01\\x02\\x03454235'\n"
          ]
        }
      ],
      "execution_count": 12
    },
    {
      "id": "786e0454-539e-4d9e-b582-a70a6d897a17",
      "cell_type": "code",
      "source": "",
      "metadata": {
        "id": "786e0454-539e-4d9e-b582-a70a6d897a17",
        "executionInfo": {
          "status": "ok",
          "timestamp": 1690307874469,
          "user_tz": -330,
          "elapsed": 15,
          "user": {
            "displayName": "Radheshyam Vishwakarma",
            "userId": "13824352053732149487"
          }
        }
      },
      "outputs": [],
      "execution_count": 12
    }
  ]
}