{
  "metadata": {
    "kernelspec": {
      "name": "python",
      "display_name": "Python (Pyodide)",
      "language": "python"
    },
    "language_info": {
      "codemirror_mode": {
        "name": "python",
        "version": 3
      },
      "file_extension": ".py",
      "mimetype": "text/x-python",
      "name": "python",
      "nbconvert_exporter": "python",
      "pygments_lexer": "ipython3",
      "version": "3.8"
    },
    "colab": {
      "provenance": []
    }
  },
  "nbformat_minor": 5,
  "nbformat": 4,
  "cells": [
    {
      "id": "9c3a194c-d024-46e6-aa63-3fb324a4d0b5",
      "cell_type": "code",
      "source": "n = 3\np = 2",
      "metadata": {
        "id": "9c3a194c-d024-46e6-aa63-3fb324a4d0b5"
      },
      "outputs": [],
      "execution_count": null
    },
    {
      "id": "88cd0353-106f-4918-8d90-b02937e69da0",
      "cell_type": "code",
      "source": "# lambda function is also called one line function or autonomous function. here we write the code in the shortest way.\n# here we have no need to define any function",
      "metadata": {
        "trusted": true
      },
      "outputs": [],
      "execution_count": 2
    },
    {
      "id": "bec8c526-96a7-4d69-abb5-0d6551308987",
      "cell_type": "code",
      "source": "def test(n,p):\n    return n**p",
      "metadata": {
        "id": "bec8c526-96a7-4d69-abb5-0d6551308987",
        "trusted": true
      },
      "outputs": [],
      "execution_count": 3
    },
    {
      "id": "24f8e234-4d6b-4496-8506-4585fc4953f6",
      "cell_type": "code",
      "source": "test(3,2)",
      "metadata": {
        "id": "24f8e234-4d6b-4496-8506-4585fc4953f6",
        "outputId": "c4707f4e-76bb-4d0d-8185-f866bd0ed2f8"
      },
      "outputs": [
        {
          "data": {
            "text/plain": [
              "9"
            ]
          },
          "execution_count": 11,
          "metadata": {},
          "output_type": "execute_result"
        }
      ],
      "execution_count": null
    },
    {
      "id": "a935973c-31d9-4813-b642-c694052b9649",
      "cell_type": "code",
      "source": "a = lambda n, p :n**p",
      "metadata": {
        "id": "a935973c-31d9-4813-b642-c694052b9649",
        "executionInfo": {
          "status": "ok",
          "timestamp": 1693287145583,
          "user_tz": -330,
          "elapsed": 6,
          "user": {
            "displayName": "Sumit Madame",
            "userId": "10533556580723145216"
          }
        }
      },
      "outputs": [],
      "execution_count": 2
    },
    {
      "id": "8c8be7db-9f32-4a98-946a-91d03615b7e4",
      "cell_type": "code",
      "source": "a(3,5)",
      "metadata": {
        "colab": {
          "base_uri": "https://localhost:8080/"
        },
        "id": "8c8be7db-9f32-4a98-946a-91d03615b7e4",
        "executionInfo": {
          "status": "ok",
          "timestamp": 1693287151252,
          "user_tz": -330,
          "elapsed": 494,
          "user": {
            "displayName": "Sumit Madame",
            "userId": "10533556580723145216"
          }
        },
        "outputId": "2a06dc65-c449-4606-df7f-50fda3cf610b"
      },
      "outputs": [
        {
          "output_type": "execute_result",
          "data": {
            "text/plain": [
              "243"
            ]
          },
          "metadata": {},
          "execution_count": 3
        }
      ],
      "execution_count": 3
    },
    {
      "id": "ff919513-7038-4195-8970-f8a7b6cdba9b",
      "cell_type": "code",
      "source": "add = lambda x,y : x+y",
      "metadata": {
        "id": "ff919513-7038-4195-8970-f8a7b6cdba9b"
      },
      "outputs": [],
      "execution_count": null
    },
    {
      "id": "4b977339-897e-44c9-b0fc-b98afd79c14a",
      "cell_type": "code",
      "source": "add(4,5)",
      "metadata": {
        "id": "4b977339-897e-44c9-b0fc-b98afd79c14a",
        "outputId": "e59da13c-6fbb-4b45-942b-89cb03992a5c"
      },
      "outputs": [
        {
          "data": {
            "text/plain": [
              "9"
            ]
          },
          "execution_count": 16,
          "metadata": {},
          "output_type": "execute_result"
        }
      ],
      "execution_count": null
    },
    {
      "id": "cc847307-9bd8-450e-a685-709777f06422",
      "cell_type": "code",
      "source": "c_to_f = lambda c : (9/5)*c + 32",
      "metadata": {
        "id": "cc847307-9bd8-450e-a685-709777f06422"
      },
      "outputs": [],
      "execution_count": null
    },
    {
      "id": "68ccbaa2-f6ae-4a8f-b9de-17737f6a90aa",
      "cell_type": "code",
      "source": "c_to_f(45)",
      "metadata": {
        "id": "68ccbaa2-f6ae-4a8f-b9de-17737f6a90aa",
        "outputId": "68b923b9-3936-4281-bffc-3a57f4366e84"
      },
      "outputs": [
        {
          "data": {
            "text/plain": [
              "113.0"
            ]
          },
          "execution_count": 18,
          "metadata": {},
          "output_type": "execute_result"
        }
      ],
      "execution_count": null
    },
    {
      "id": "5843f821-b5e9-4885-a409-1c625012798e",
      "cell_type": "code",
      "source": "finding_max = lambda x,y : x if x>y else y",
      "metadata": {
        "id": "5843f821-b5e9-4885-a409-1c625012798e"
      },
      "outputs": [],
      "execution_count": null
    },
    {
      "id": "07f8dc43-cc7a-4bfb-8a0e-aef26888a459",
      "cell_type": "code",
      "source": "finding_max(34,23)",
      "metadata": {
        "id": "07f8dc43-cc7a-4bfb-8a0e-aef26888a459",
        "outputId": "3a60ea41-4447-4f2a-9b5f-ccb4b891ede7"
      },
      "outputs": [
        {
          "data": {
            "text/plain": [
              "34"
            ]
          },
          "execution_count": 20,
          "metadata": {},
          "output_type": "execute_result"
        }
      ],
      "execution_count": null
    },
    {
      "id": "c0271b52-9f3a-4893-9d08-54c82ce55b32",
      "cell_type": "code",
      "source": "s = \"pwskills\"",
      "metadata": {
        "id": "c0271b52-9f3a-4893-9d08-54c82ce55b32"
      },
      "outputs": [],
      "execution_count": null
    },
    {
      "id": "ecd5c22f-16e0-44f2-9bb9-69671845bd40",
      "cell_type": "code",
      "source": "find_len = lambda s : len(s)",
      "metadata": {
        "id": "ecd5c22f-16e0-44f2-9bb9-69671845bd40"
      },
      "outputs": [],
      "execution_count": null
    },
    {
      "id": "6bcc463d-8016-4545-b859-a9ee2e723f2a",
      "cell_type": "code",
      "source": "find_len(s)",
      "metadata": {
        "id": "6bcc463d-8016-4545-b859-a9ee2e723f2a",
        "outputId": "5c7e0be5-ae8c-4420-ef26-7f8857f3e271"
      },
      "outputs": [
        {
          "data": {
            "text/plain": [
              "8"
            ]
          },
          "execution_count": 23,
          "metadata": {},
          "output_type": "execute_result"
        }
      ],
      "execution_count": null
    },
    {
      "id": "828cd14b-1784-4033-8478-37d8e16f51cb",
      "cell_type": "code",
      "source": "",
      "metadata": {
        "id": "828cd14b-1784-4033-8478-37d8e16f51cb"
      },
      "outputs": [],
      "execution_count": null
    }
  ]
}