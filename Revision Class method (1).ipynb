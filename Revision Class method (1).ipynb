{
  "metadata": {
    "kernelspec": {
      "name": "python",
      "display_name": "Python (Pyodide)",
      "language": "python"
    },
    "language_info": {
      "codemirror_mode": {
        "name": "python",
        "version": 3
      },
      "file_extension": ".py",
      "mimetype": "text/x-python",
      "name": "python",
      "nbconvert_exporter": "python",
      "pygments_lexer": "ipython3",
      "version": "3.8"
    }
  },
  "nbformat_minor": 4,
  "nbformat": 4,
  "cells": [
    {
      "cell_type": "code",
      "source": "# Now, we are going to study the Class methods.",
      "metadata": {
        "trusted": true
      },
      "outputs": [],
      "execution_count": 1
    },
    {
      "cell_type": "code",
      "source": "class pwskills : \n    \n    def __init__(self , name , email) :\n        \n        self.name = name \n        self.email = email\n        \n    def students_details(self):\n        print(self.name , self.email)",
      "metadata": {
        "trusted": true
      },
      "outputs": [],
      "execution_count": 2
    },
    {
      "cell_type": "code",
      "source": "class pwskills:\n    def __init__(self, name, email) :\n\n        self.name = name\n        self.email = email\n\n    def students_details(self):\n        print(self.name, self.email)",
      "metadata": {
        "trusted": true
      },
      "outputs": [],
      "execution_count": 3
    },
    {
      "cell_type": "code",
      "source": "pw = pwskills(\"mohan\" , \"mohan@gmail.com\")",
      "metadata": {
        "trusted": true
      },
      "outputs": [],
      "execution_count": 4
    },
    {
      "cell_type": "code",
      "source": "pw = pwskills(\"mohan\", \"mohan@gmail.com\")",
      "metadata": {
        "trusted": true
      },
      "outputs": [],
      "execution_count": 5
    },
    {
      "cell_type": "code",
      "source": "pw.name",
      "metadata": {
        "trusted": true
      },
      "outputs": [
        {
          "execution_count": 6,
          "output_type": "execute_result",
          "data": {
            "text/plain": "'mohan'"
          },
          "metadata": {}
        }
      ],
      "execution_count": 6
    },
    {
      "cell_type": "code",
      "source": "pw.email",
      "metadata": {
        "trusted": true
      },
      "outputs": [
        {
          "execution_count": 7,
          "output_type": "execute_result",
          "data": {
            "text/plain": "'mohan@gmail.com'"
          },
          "metadata": {}
        }
      ],
      "execution_count": 7
    },
    {
      "cell_type": "code",
      "source": "pw.students_details()",
      "metadata": {
        "trusted": true
      },
      "outputs": [
        {
          "name": "stdout",
          "text": "mohan mohan@gmail.com\n",
          "output_type": "stream"
        }
      ],
      "execution_count": 8
    },
    {
      "cell_type": "code",
      "source": "# In the above we used the __init__ .So, we need object or variable. we can also extract data without this __init__ and object.",
      "metadata": {
        "trusted": true
      },
      "outputs": [],
      "execution_count": 9
    },
    {
      "cell_type": "code",
      "source": "#we can also oerload this __init__.",
      "metadata": {
        "trusted": true
      },
      "outputs": [],
      "execution_count": 10
    },
    {
      "cell_type": "code",
      "source": "class pwskills1 : \n    \n    def __init__(self , name , email) :\n        \n        self.name = name \n        self.email = email\n    \n    @classmethod          #this decorator is already available . we have no need to create this decorator.\n    def details(cls ,name, email ):         # Where \"cls\" is a reference or pointer. Here to access the data we dont need to create the object.Meeans insted of creating the __init__ method we can recall the details().\n        return cls(name , email)\n        \n    def students_details(self):\n        print(self.name , self.email)",
      "metadata": {
        "trusted": true
      },
      "outputs": [],
      "execution_count": 11
    },
    {
      "cell_type": "code",
      "source": "pwskills1.details(\"sudh\" , \"sudh@gmail.com\")",
      "metadata": {
        "trusted": true
      },
      "outputs": [
        {
          "execution_count": 12,
          "output_type": "execute_result",
          "data": {
            "text/plain": "<__main__.pwskills1 at 0x22bdcf8>"
          },
          "metadata": {}
        }
      ],
      "execution_count": 12
    },
    {
      "cell_type": "code",
      "source": "pw1 = pwskills1.details(\"sudh\" , \"sudh@gmail.com\")\n# Here we are accessing it without accessing any object.",
      "metadata": {
        "trusted": true
      },
      "outputs": [],
      "execution_count": 13
    },
    {
      "cell_type": "code",
      "source": "pw1 = pwskills1.details(\"sudh\", \"sudh@gmail.com\")\n# Here we are accessing it without accessing any object.",
      "metadata": {
        "trusted": true
      },
      "outputs": [],
      "execution_count": 14
    },
    {
      "cell_type": "code",
      "source": "pw1.name\n# Here we are accessing it without accessing any object.",
      "metadata": {
        "trusted": true
      },
      "outputs": [
        {
          "execution_count": 15,
          "output_type": "execute_result",
          "data": {
            "text/plain": "'sudh'"
          },
          "metadata": {}
        }
      ],
      "execution_count": 15
    },
    {
      "cell_type": "code",
      "source": "pw1.email\n# Here we are accessing it without accessing any object.",
      "metadata": {
        "trusted": true
      },
      "outputs": [
        {
          "execution_count": 16,
          "output_type": "execute_result",
          "data": {
            "text/plain": "'sudh@gmail.com'"
          },
          "metadata": {}
        }
      ],
      "execution_count": 16
    },
    {
      "cell_type": "code",
      "source": "pw1.students_details()\n# Here we are accessing it without accessing any object.",
      "metadata": {
        "trusted": true
      },
      "outputs": [
        {
          "name": "stdout",
          "text": "sudh sudh@gmail.com\n",
          "output_type": "stream"
        }
      ],
      "execution_count": 17
    },
    {
      "cell_type": "code",
      "source": "class pwskills2 : \n    \n    mobile_num = 912342424   # This variable is in this \"pwskills2\" not in the __init__ or class method. this is a class variable. we don't need any variable to access it.\n    \n    def __init__(self , name , email) :\n        \n        self.name = name \n        self.email = email\n    \n    \n    \n    @classmethod\n    def details(cls ,name, email ):\n        return cls(name , email)\n        \n    ",
      "metadata": {
        "trusted": true
      },
      "outputs": [],
      "execution_count": 18
    },
    {
      "cell_type": "code",
      "source": "pwskills2.mobile_num\n# we don't need any object  to access it. ",
      "metadata": {
        "trusted": true
      },
      "outputs": [
        {
          "execution_count": 19,
          "output_type": "execute_result",
          "data": {
            "text/plain": "912342424"
          },
          "metadata": {}
        }
      ],
      "execution_count": 19
    },
    {
      "cell_type": "code",
      "source": "# but we can also access it even inside a class metthod.",
      "metadata": {
        "trusted": true
      },
      "outputs": [],
      "execution_count": 20
    },
    {
      "cell_type": "code",
      "source": "pwskills2.mobile_num",
      "metadata": {
        "trusted": true
      },
      "outputs": [
        {
          "execution_count": 21,
          "output_type": "execute_result",
          "data": {
            "text/plain": "912342424"
          },
          "metadata": {}
        }
      ],
      "execution_count": 21
    },
    {
      "cell_type": "code",
      "source": "pwskills2.mobile_num = 1234\n# i can change this mobile_number by this way and also  by the class method",
      "metadata": {
        "trusted": true
      },
      "outputs": [],
      "execution_count": 22
    },
    {
      "cell_type": "code",
      "source": "pwskills2.mobile_num",
      "metadata": {
        "trusted": true
      },
      "outputs": [
        {
          "execution_count": 23,
          "output_type": "execute_result",
          "data": {
            "text/plain": "1234"
          },
          "metadata": {}
        }
      ],
      "execution_count": 23
    },
    {
      "cell_type": "code",
      "source": "# let's use the class method",
      "metadata": {
        "trusted": true
      },
      "outputs": [],
      "execution_count": 24
    },
    {
      "cell_type": "code",
      "source": "class pwskills2 : \n    \n    mobile_num = 912342424\n    \n    def __init__(self , name , email) :\n        \n        self.name = name \n        self.email = email\n    \n    @classmethod\n    def change_number(cls, mobile):\n        pwskills2.mobile_num = mobile\n    # i can change this mobile_num by this way and also  by the class method.\n    @classmethod\n    def details(cls ,name, email ):\n        return cls(name , email)\n        \n    ",
      "metadata": {
        "trusted": true
      },
      "outputs": [],
      "execution_count": 25
    },
    {
      "cell_type": "code",
      "source": "class pwskills2:\n\n    mobile_num = 912342424\n\n    def __init__(self, name, email):\n\n        self.name = name\n        self.email = email\n\n    @classmethod\n    def change_number(cls, mobile):\n        pwskills2.mobile_num = mobile\n        # i can change this mobile_num by this way and also  by the class method.\n    @classmethod     # a decorator\n    def details(cls, name, email):\n        return cls(name, email)",
      "metadata": {
        "trusted": true
      },
      "outputs": [],
      "execution_count": 26
    },
    {
      "cell_type": "code",
      "source": "pwskills2.change_number(7206873623)\n# Hence we change the number without creating an object",
      "metadata": {
        "trusted": true
      },
      "outputs": [],
      "execution_count": 27
    },
    {
      "cell_type": "code",
      "source": "pwskills2.mobile_num\n# Hence we change the number without creating an object",
      "metadata": {
        "trusted": true
      },
      "outputs": [
        {
          "execution_count": 28,
          "output_type": "execute_result",
          "data": {
            "text/plain": "7206873623"
          },
          "metadata": {}
        }
      ],
      "execution_count": 28
    },
    {
      "cell_type": "code",
      "source": "# So, with the help of class method we can acess the data and update it also without even creating an object",
      "metadata": {
        "trusted": true
      },
      "outputs": [],
      "execution_count": 29
    },
    {
      "cell_type": "code",
      "source": "class pwskills2 : \n    \n    mobile_num = 912342424\n    \n    def __init__(self , name , email) :\n        \n        self.name = name \n        self.email = email\n    \n    @classmethod\n    def change_number(cls, mobile):\n        pwskills2.mobile_num = mobile\n    \n    @classmethod\n    def details(cls ,name, email ):\n        return cls(name , email)\n        \n    def students_details(self):\n        print(self.name , self.email,pwskills2.mobile_num)    # We didn't write self in \"pwskills2.mobile_num\" because it is associated with the class method",
      "metadata": {
        "trusted": true
      },
      "outputs": [],
      "execution_count": 35
    },
    {
      "cell_type": "code",
      "source": "pw_obj = pwskills2(\"sudh\", \"sudh@gmail.com\")",
      "metadata": {
        "trusted": true
      },
      "outputs": [],
      "execution_count": 36
    },
    {
      "cell_type": "code",
      "source": "pw_obj.students_details()\n# Here we access the \"student_details\" using the \"pw_obj\", an object.",
      "metadata": {
        "trusted": true
      },
      "outputs": [
        {
          "name": "stdout",
          "text": "sudh sudh@gmail.com 912342424\n",
          "output_type": "stream"
        }
      ],
      "execution_count": 38
    },
    {
      "cell_type": "code",
      "source": "pw_obj1 = pwskills2(\"sudh\", \"sudh@gmail.com\", 345678)",
      "metadata": {
        "trusted": true
      },
      "outputs": [
        {
          "ename": "<class 'TypeError'>",
          "evalue": "pwskills2.__init__() takes 3 positional arguments but 4 were given",
          "traceback": [
            "\u001b[0;31m---------------------------------------------------------------------------\u001b[0m",
            "\u001b[0;31mTypeError\u001b[0m                                 Traceback (most recent call last)",
            "Cell \u001b[0;32mIn[39], line 1\u001b[0m\n\u001b[0;32m----> 1\u001b[0m pw_obj1 \u001b[38;5;241m=\u001b[39m \u001b[43mpwskills2\u001b[49m\u001b[43m(\u001b[49m\u001b[38;5;124;43m\"\u001b[39;49m\u001b[38;5;124;43msudh\u001b[39;49m\u001b[38;5;124;43m\"\u001b[39;49m\u001b[43m,\u001b[49m\u001b[43m \u001b[49m\u001b[38;5;124;43m\"\u001b[39;49m\u001b[38;5;124;43msudh@gmail.com\u001b[39;49m\u001b[38;5;124;43m\"\u001b[39;49m\u001b[43m,\u001b[49m\u001b[43m \u001b[49m\u001b[38;5;241;43m345678\u001b[39;49m\u001b[43m)\u001b[49m\n",
            "\u001b[0;31mTypeError\u001b[0m: pwskills2.__init__() takes 3 positional arguments but 4 were given"
          ],
          "output_type": "error"
        }
      ],
      "execution_count": 39
    },
    {
      "cell_type": "code",
      "source": "# another way to access it is the by creating a variable by the use of class method. and this is as follow.",
      "metadata": {
        "trusted": true
      },
      "outputs": [],
      "execution_count": 40
    },
    {
      "cell_type": "code",
      "source": "pw = pwskills2.details(\"rohan\", \"rohan@gmail.com\")",
      "metadata": {
        "trusted": true
      },
      "outputs": [],
      "execution_count": 41
    },
    {
      "cell_type": "code",
      "source": "pw.students_details()\n# another way to access it is the by creating a variable by the use of class method. and this is as follow.",
      "metadata": {
        "trusted": true
      },
      "outputs": [
        {
          "name": "stdout",
          "text": "rohan rohan@gmail.com 912342424\n",
          "output_type": "stream"
        }
      ],
      "execution_count": 43
    },
    {
      "cell_type": "code",
      "source": "So, using this class method we are overloading the __init__.",
      "metadata": {
        "trusted": true
      },
      "outputs": [],
      "execution_count": null
    },
    {
      "cell_type": "code",
      "source": "class pwskills3 : \n    \n    mobile_num = 912342424\n    \n    def __init__(self , name , email) :\n        \n        self.name = name \n        self.email = email\n    \n    @classmethod\n    def change_number(cls, mobile):\n        pwskills2.mobile_num = mobile\n    \n    @classmethod\n    def details(cls ,name, email ):\n        return cls(name , email)\n        \n    def students_details(self):\n        print(self.name , self.email,pwskills2.mobile_num)",
      "metadata": {
        "trusted": true
      },
      "outputs": [],
      "execution_count": 44
    },
    {
      "cell_type": "code",
      "source": "def course_details(cls,course_name) : \n    print(\"course name is \" , course_name)",
      "metadata": {
        "trusted": true
      },
      "outputs": [],
      "execution_count": 45
    },
    {
      "cell_type": "code",
      "source": "# we cannot access this \"course_details\" , an external function inside the pwskills3. mtlb abhi \"pwskills3. tab key press krne par \"course_details\" nhi aayega.\"to do this we do the following.\n# so we use the class method to do this",
      "metadata": {
        "trusted": true
      },
      "outputs": [],
      "execution_count": 48
    },
    {
      "cell_type": "code",
      "source": "pwskills3.course_details = classmethod(course_details)\n",
      "metadata": {
        "trusted": true
      },
      "outputs": [],
      "execution_count": 49
    },
    {
      "cell_type": "code",
      "source": "pwskills3.course_details(\"Data science masters\")",
      "metadata": {
        "trusted": true
      },
      "outputs": [
        {
          "name": "stdout",
          "text": "course name is  Data science masters\n",
          "output_type": "stream"
        }
      ],
      "execution_count": 50
    },
    {
      "cell_type": "code",
      "source": "# Hence, this way we can access multiple external functions inside any class using the class method.",
      "metadata": {
        "trusted": true
      },
      "outputs": [],
      "execution_count": 51
    },
    {
      "cell_type": "code",
      "source": "def mentor(cls , list_of_mentor) : \n    print(list_of_mentor)",
      "metadata": {
        "trusted": true
      },
      "outputs": [],
      "execution_count": 52
    },
    {
      "cell_type": "code",
      "source": "pwskills3.mentor = classmethod(mentor)",
      "metadata": {
        "trusted": true
      },
      "outputs": [],
      "execution_count": 56
    },
    {
      "cell_type": "code",
      "source": "pwskills3.mentor([\"Mohit\", \"Rohit\", \"Kiran\"])",
      "metadata": {
        "trusted": true
      },
      "outputs": [
        {
          "name": "stdout",
          "text": "['Mohit', 'Rohit', 'Kiran']\n",
          "output_type": "stream"
        }
      ],
      "execution_count": 59
    },
    {
      "cell_type": "code",
      "source": "class pwskills4 : \n    \n    mobile_num = 912342424\n    \n    def __init__(self , name , email) :\n        \n        self.name = name \n        self.email = email\n    \n    @classmethod\n    def change_number(cls, mobile):\n        pwskills2.mobile_num = mobile\n    \n    @classmethod\n    def details(cls ,name, email ):\n        return cls(name , email)\n        \n    def students_details(self):\n        print(self.name , self.email,pwskills2.mobile_num)",
      "metadata": {
        "trusted": true
      },
      "outputs": [],
      "execution_count": 60
    },
    {
      "cell_type": "code",
      "source": "del pwskills4.change_number\n# This del keyword is used to delete any function.",
      "metadata": {
        "trusted": true
      },
      "outputs": [],
      "execution_count": 61
    },
    {
      "cell_type": "code",
      "source": "del pwskills4.change_number\n# hence deleted",
      "metadata": {
        "trusted": true
      },
      "outputs": [
        {
          "ename": "<class 'AttributeError'>",
          "evalue": "type object 'pwskills4' has no attribute 'change_number'",
          "traceback": [
            "\u001b[0;31m---------------------------------------------------------------------------\u001b[0m",
            "\u001b[0;31mAttributeError\u001b[0m                            Traceback (most recent call last)",
            "Cell \u001b[0;32mIn[63], line 1\u001b[0m\n\u001b[0;32m----> 1\u001b[0m \u001b[38;5;28;01mdel\u001b[39;00m \u001b[43mpwskills4\u001b[49m\u001b[38;5;241;43m.\u001b[39;49m\u001b[43mchange_number\u001b[49m\n\u001b[1;32m      2\u001b[0m \u001b[38;5;66;03m# hence deleted\u001b[39;00m\n",
            "\u001b[0;31mAttributeError\u001b[0m: type object 'pwskills4' has no attribute 'change_number'"
          ],
          "output_type": "error"
        }
      ],
      "execution_count": 63
    },
    {
      "cell_type": "code",
      "source": "delattr (pwskills4, \"details\")\n# This delattr keyword is also used to delete any function . but we are to write that function in the string",
      "metadata": {
        "trusted": true
      },
      "outputs": [],
      "execution_count": 64
    },
    {
      "cell_type": "code",
      "source": "delattr (pwskills4, \"details\")\n# hence deleted as error is arised",
      "metadata": {
        "trusted": true
      },
      "outputs": [
        {
          "ename": "<class 'AttributeError'>",
          "evalue": "type object 'pwskills4' has no attribute 'details'",
          "traceback": [
            "\u001b[0;31m---------------------------------------------------------------------------\u001b[0m",
            "\u001b[0;31mAttributeError\u001b[0m                            Traceback (most recent call last)",
            "Cell \u001b[0;32mIn[68], line 1\u001b[0m\n\u001b[0;32m----> 1\u001b[0m \u001b[38;5;28;43mdelattr\u001b[39;49m\u001b[43m \u001b[49m\u001b[43m(\u001b[49m\u001b[43mpwskills4\u001b[49m\u001b[43m,\u001b[49m\u001b[43m \u001b[49m\u001b[38;5;124;43m\"\u001b[39;49m\u001b[38;5;124;43mdetails\u001b[39;49m\u001b[38;5;124;43m\"\u001b[39;49m\u001b[43m)\u001b[49m\n\u001b[1;32m      2\u001b[0m \u001b[38;5;66;03m# hence deleted as error is arised\u001b[39;00m\n",
            "\u001b[0;31mAttributeError\u001b[0m: type object 'pwskills4' has no attribute 'details'"
          ],
          "output_type": "error"
        }
      ],
      "execution_count": 68
    },
    {
      "cell_type": "code",
      "source": "# now if i pree tab key with the \"pwskills4.\" , we will not access \"details\", function.",
      "metadata": {
        "trusted": true
      },
      "outputs": [],
      "execution_count": 65
    },
    {
      "cell_type": "code",
      "source": "delattr(pwskills4 ,\"students_details\")\n# even we can delete functions which is not in the class method",
      "metadata": {
        "trusted": true
      },
      "outputs": [],
      "execution_count": 66
    },
    {
      "cell_type": "code",
      "source": "delattr(pwskills4 ,\"students_details\")\n# hence deleted as error is arised",
      "metadata": {
        "trusted": true
      },
      "outputs": [
        {
          "ename": "<class 'AttributeError'>",
          "evalue": "type object 'pwskills4' has no attribute 'students_details'",
          "traceback": [
            "\u001b[0;31m---------------------------------------------------------------------------\u001b[0m",
            "\u001b[0;31mAttributeError\u001b[0m                            Traceback (most recent call last)",
            "Cell \u001b[0;32mIn[69], line 1\u001b[0m\n\u001b[0;32m----> 1\u001b[0m \u001b[38;5;28;43mdelattr\u001b[39;49m\u001b[43m(\u001b[49m\u001b[43mpwskills4\u001b[49m\u001b[43m \u001b[49m\u001b[43m,\u001b[49m\u001b[38;5;124;43m\"\u001b[39;49m\u001b[38;5;124;43mstudents_details\u001b[39;49m\u001b[38;5;124;43m\"\u001b[39;49m\u001b[43m)\u001b[49m\n\u001b[1;32m      2\u001b[0m \u001b[38;5;66;03m# hence deleted as error is arised\u001b[39;00m\n",
            "\u001b[0;31mAttributeError\u001b[0m: type object 'pwskills4' has no attribute 'students_details'"
          ],
          "output_type": "error"
        }
      ],
      "execution_count": 69
    },
    {
      "cell_type": "code",
      "source": "delattr(pwskills4 , \"mobile_num\")\n# we can also delete variable inside to class.",
      "metadata": {
        "trusted": true
      },
      "outputs": [],
      "execution_count": 70
    },
    {
      "cell_type": "code",
      "source": "delattr(pwskills4 , \"mobile_num\")\n# Hence deleted",
      "metadata": {
        "trusted": true
      },
      "outputs": [
        {
          "ename": "<class 'AttributeError'>",
          "evalue": "type object 'pwskills4' has no attribute 'mobile_num'",
          "traceback": [
            "\u001b[0;31m---------------------------------------------------------------------------\u001b[0m",
            "\u001b[0;31mAttributeError\u001b[0m                            Traceback (most recent call last)",
            "Cell \u001b[0;32mIn[71], line 1\u001b[0m\n\u001b[0;32m----> 1\u001b[0m \u001b[38;5;28;43mdelattr\u001b[39;49m\u001b[43m(\u001b[49m\u001b[43mpwskills4\u001b[49m\u001b[43m \u001b[49m\u001b[43m,\u001b[49m\u001b[43m \u001b[49m\u001b[38;5;124;43m\"\u001b[39;49m\u001b[38;5;124;43mmobile_num\u001b[39;49m\u001b[38;5;124;43m\"\u001b[39;49m\u001b[43m)\u001b[49m\n\u001b[1;32m      2\u001b[0m \u001b[38;5;66;03m# Hence deleted\u001b[39;00m\n",
            "\u001b[0;31mAttributeError\u001b[0m: type object 'pwskills4' has no attribute 'mobile_num'"
          ],
          "output_type": "error"
        }
      ],
      "execution_count": 71
    },
    {
      "cell_type": "code",
      "source": "pwskills4.change_number(345345453)\n# This \"change_number()\" is deleted . so we can't access it. or unable or mdigy or update the mobile number  ",
      "metadata": {
        "trusted": true
      },
      "outputs": [
        {
          "ename": "<class 'AttributeError'>",
          "evalue": "type object 'pwskills4' has no attribute 'change_number'",
          "traceback": [
            "\u001b[0;31m---------------------------------------------------------------------------\u001b[0m",
            "\u001b[0;31mAttributeError\u001b[0m                            Traceback (most recent call last)",
            "Cell \u001b[0;32mIn[72], line 1\u001b[0m\n\u001b[0;32m----> 1\u001b[0m \u001b[43mpwskills4\u001b[49m\u001b[38;5;241;43m.\u001b[39;49m\u001b[43mchange_number\u001b[49m(\u001b[38;5;241m345345453\u001b[39m)\n\u001b[1;32m      2\u001b[0m \u001b[38;5;66;03m# This \"change_number()\" is deleted . so we can't access it. or unable or mdigy or update the mobile number  \u001b[39;00m\n",
            "\u001b[0;31mAttributeError\u001b[0m: type object 'pwskills4' has no attribute 'change_number'"
          ],
          "output_type": "error"
        }
      ],
      "execution_count": 72
    },
    {
      "cell_type": "code",
      "source": "",
      "metadata": {
        "trusted": true
      },
      "outputs": [],
      "execution_count": null
    }
  ]
}