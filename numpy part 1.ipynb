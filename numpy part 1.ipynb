{
 "cells": [
  {
   "cell_type": "code",
   "execution_count": 1,
   "id": "bb5f01f5-4f36-4e90-a4f1-24b7d3889725",
   "metadata": {},
   "outputs": [],
   "source": [
    "import numpy as np"
   ]
  },
  {
   "cell_type": "code",
   "execution_count": 6,
   "id": "fc470ca3-62cf-4e08-b096-6b2e9eeab224",
   "metadata": {},
   "outputs": [],
   "source": [
    "# numpy means numerical python. it is essential for machine learning, deep learning, computer vision , NLP etc. the converts all the data like video, audio, image or any text file into the arrrays and matrix and then the computation will be occureed on it."
   ]
  },
  {
   "cell_type": "code",
   "execution_count": 7,
   "id": "d2268ae2-3528-448a-9bee-8741fb9f1af8",
   "metadata": {},
   "outputs": [],
   "source": [
    "# NumPy is an open-source Python library that facilitates efficient numerical operations on large quantities of data. "
   ]
  },
  {
   "cell_type": "code",
   "execution_count": 8,
   "id": "f634285d-a871-49b9-b766-76d57a6f378a",
   "metadata": {},
   "outputs": [],
   "source": [
    "l = [1,2,3,4]"
   ]
  },
  {
   "cell_type": "code",
   "execution_count": 11,
   "id": "d5d7fab1-58a4-4f74-b8cd-3a4c78a9161e",
   "metadata": {},
   "outputs": [
    {
     "data": {
      "text/plain": [
       "array([1, 2, 3, 4])"
      ]
     },
     "execution_count": 11,
     "metadata": {},
     "output_type": "execute_result"
    }
   ],
   "source": [
    "np.array(l)"
   ]
  },
  {
   "cell_type": "code",
   "execution_count": 12,
   "id": "6857265b-0124-4fec-aee0-74c0b0c105f7",
   "metadata": {},
   "outputs": [],
   "source": [
    "ar = np.array(l)"
   ]
  },
  {
   "cell_type": "code",
   "execution_count": 13,
   "id": "7402cc20-1cc2-4433-9fef-ed47f71e85b0",
   "metadata": {},
   "outputs": [
    {
     "data": {
      "text/plain": [
       "array([1, 2, 3, 4])"
      ]
     },
     "execution_count": 13,
     "metadata": {},
     "output_type": "execute_result"
    }
   ],
   "source": [
    "ar"
   ]
  },
  {
   "cell_type": "code",
   "execution_count": 18,
   "id": "d99d04bc-6c10-4257-9fc0-09ab610614fe",
   "metadata": {},
   "outputs": [],
   "source": [
    "# here is one sqare bracket means it is a 1d array"
   ]
  },
  {
   "cell_type": "code",
   "execution_count": 19,
   "id": "18a6c69f-24e3-4614-88c3-5c5bfe62bbfc",
   "metadata": {},
   "outputs": [
    {
     "data": {
      "text/plain": [
       "numpy.ndarray"
      ]
     },
     "execution_count": 19,
     "metadata": {},
     "output_type": "execute_result"
    }
   ],
   "source": [
    "type(ar)"
   ]
  },
  {
   "cell_type": "code",
   "execution_count": 20,
   "id": "c86a83f4-f4b8-4677-be17-cab326e01363",
   "metadata": {},
   "outputs": [],
   "source": [
    "# \"ndarray\" means n dimensional array."
   ]
  },
  {
   "cell_type": "code",
   "execution_count": 21,
   "id": "0fc7fb9c-3d1d-45ce-9a90-55985557eec9",
   "metadata": {},
   "outputs": [],
   "source": [
    "# a colorfull image is a 3 dimensional array in rgb layer"
   ]
  },
  {
   "cell_type": "code",
   "execution_count": 26,
   "id": "0b30a3c2-efd8-4f59-bc12-88eb44dee98e",
   "metadata": {},
   "outputs": [
    {
     "data": {
      "text/plain": [
       "array([[1, 2],\n",
       "       [3, 4]])"
      ]
     },
     "execution_count": 26,
     "metadata": {},
     "output_type": "execute_result"
    }
   ],
   "source": [
    "np.array([[1,2] ,[3,4]])"
   ]
  },
  {
   "cell_type": "code",
   "execution_count": 27,
   "id": "6ecbf801-204c-4e52-a51b-1e56eeb1b8af",
   "metadata": {},
   "outputs": [],
   "source": [
    "# at above there is two square bracket theree be 2d array"
   ]
  },
  {
   "cell_type": "code",
   "execution_count": 28,
   "id": "79e702b8-dbc6-4548-80d0-734c8579de9e",
   "metadata": {},
   "outputs": [
    {
     "data": {
      "text/plain": [
       "array([1, 2, 3, 4])"
      ]
     },
     "execution_count": 28,
     "metadata": {},
     "output_type": "execute_result"
    }
   ],
   "source": [
    "np.asarray(l)"
   ]
  },
  {
   "cell_type": "code",
   "execution_count": 29,
   "id": "3915cb9b-f264-4495-a9c4-c25d18f64c60",
   "metadata": {},
   "outputs": [],
   "source": [
    "a= [2,3,4]"
   ]
  },
  {
   "cell_type": "code",
   "execution_count": 30,
   "id": "31b88237-5e24-4154-9c64-916c0a9fd6c0",
   "metadata": {},
   "outputs": [
    {
     "data": {
      "text/plain": [
       "array([2, 3, 4])"
      ]
     },
     "execution_count": 30,
     "metadata": {},
     "output_type": "execute_result"
    }
   ],
   "source": [
    "np.asanyarray(a)"
   ]
  },
  {
   "cell_type": "code",
   "execution_count": 31,
   "id": "4ffa737b-2dbc-436a-872b-511dd5fda03c",
   "metadata": {},
   "outputs": [],
   "source": [
    "# array, asarray,asanyarray all can make an arrray."
   ]
  },
  {
   "cell_type": "code",
   "execution_count": 32,
   "id": "bb04fe74-da43-4ff2-90e9-a6c7b98f65bf",
   "metadata": {},
   "outputs": [],
   "source": [
    "# a matrix is a bydefault 2d array and it issubset of array . it performs all the operation that an arraycan performs."
   ]
  },
  {
   "cell_type": "code",
   "execution_count": 33,
   "id": "b6cddc4f-d960-4925-a553-623b0a8ff541",
   "metadata": {},
   "outputs": [],
   "source": [
    "b = np.matrix(l)"
   ]
  },
  {
   "cell_type": "code",
   "execution_count": 34,
   "id": "7c9464fb-06a8-4c16-aebe-761f96979974",
   "metadata": {},
   "outputs": [
    {
     "data": {
      "text/plain": [
       "matrix([[1, 2, 3, 4]])"
      ]
     },
     "execution_count": 34,
     "metadata": {},
     "output_type": "execute_result"
    }
   ],
   "source": [
    "b"
   ]
  },
  {
   "cell_type": "code",
   "execution_count": 35,
   "id": "51cedef8-ff07-48cd-a1eb-35ac18f991c7",
   "metadata": {},
   "outputs": [
    {
     "data": {
      "text/plain": [
       "matrix([[1, 2, 3, 4]])"
      ]
     },
     "execution_count": 35,
     "metadata": {},
     "output_type": "execute_result"
    }
   ],
   "source": [
    "np.asanyarray(b)"
   ]
  },
  {
   "cell_type": "code",
   "execution_count": 36,
   "id": "ad27ec1e-c010-4bb8-a278-6125a81fb91c",
   "metadata": {},
   "outputs": [],
   "source": [
    "a = np.array(l)"
   ]
  },
  {
   "cell_type": "code",
   "execution_count": 37,
   "id": "3db65dc5-fa99-4f0a-89d7-1f6eaf775b05",
   "metadata": {},
   "outputs": [
    {
     "data": {
      "text/plain": [
       "array([1, 2, 3, 4])"
      ]
     },
     "execution_count": 37,
     "metadata": {},
     "output_type": "execute_result"
    }
   ],
   "source": [
    "a\n"
   ]
  },
  {
   "cell_type": "code",
   "execution_count": 38,
   "id": "ff3d2a1d-b052-4db3-99d6-a3501a75d027",
   "metadata": {},
   "outputs": [],
   "source": [
    "c = a  "
   ]
  },
  {
   "cell_type": "code",
   "execution_count": 39,
   "id": "642648bb-33b0-4c5d-a0bc-b1784a6a5771",
   "metadata": {},
   "outputs": [
    {
     "data": {
      "text/plain": [
       "array([1, 2, 3, 4])"
      ]
     },
     "execution_count": 39,
     "metadata": {},
     "output_type": "execute_result"
    }
   ],
   "source": [
    "c"
   ]
  },
  {
   "cell_type": "code",
   "execution_count": 40,
   "id": "2dee9b26-17af-4401-bf74-a48888d973c8",
   "metadata": {},
   "outputs": [
    {
     "data": {
      "text/plain": [
       "array([1, 2, 3, 4])"
      ]
     },
     "execution_count": 40,
     "metadata": {},
     "output_type": "execute_result"
    }
   ],
   "source": [
    "a"
   ]
  },
  {
   "cell_type": "code",
   "execution_count": 41,
   "id": "dd679803-09e1-453a-b908-590fe870373a",
   "metadata": {},
   "outputs": [],
   "source": [
    "c[0] = 100"
   ]
  },
  {
   "cell_type": "code",
   "execution_count": 42,
   "id": "d0cd8ae4-1236-44d5-8b46-2adbecfaa10e",
   "metadata": {},
   "outputs": [
    {
     "data": {
      "text/plain": [
       "array([100,   2,   3,   4])"
      ]
     },
     "execution_count": 42,
     "metadata": {},
     "output_type": "execute_result"
    }
   ],
   "source": [
    "c"
   ]
  },
  {
   "cell_type": "code",
   "execution_count": 43,
   "id": "97a614a1-8294-4fdc-b987-11f7da36d097",
   "metadata": {},
   "outputs": [
    {
     "data": {
      "text/plain": [
       "array([100,   2,   3,   4])"
      ]
     },
     "execution_count": 43,
     "metadata": {},
     "output_type": "execute_result"
    }
   ],
   "source": [
    "a"
   ]
  },
  {
   "cell_type": "code",
   "execution_count": 45,
   "id": "c162d050-b5d8-4957-a639-bddd21066396",
   "metadata": {},
   "outputs": [],
   "source": [
    "# \"c\" is swallow copy of \"a\" means any change in \"a\" can be seen in \"c\" also. i.e. data of both the \"a\"  and \"c\" are on the same location."
   ]
  },
  {
   "cell_type": "code",
   "execution_count": 46,
   "id": "6017d819-96e2-4627-aa03-92899e0683d1",
   "metadata": {},
   "outputs": [],
   "source": [
    "d = np.copy(a)"
   ]
  },
  {
   "cell_type": "code",
   "execution_count": null,
   "id": "aaaccbc2-dfd9-4752-9898-8c2d3936a7aa",
   "metadata": {},
   "outputs": [],
   "source": []
  },
  {
   "cell_type": "code",
   "execution_count": null,
   "id": "ced00eeb-c45e-42a4-b0eb-5e1294d6e742",
   "metadata": {},
   "outputs": [],
   "source": []
  },
  {
   "cell_type": "code",
   "execution_count": 56,
   "id": "a13b8fe3-a407-416d-841f-713485253d3a",
   "metadata": {},
   "outputs": [
    {
     "data": {
      "text/plain": [
       "array([100,   2,   3,   4])"
      ]
     },
     "execution_count": 56,
     "metadata": {},
     "output_type": "execute_result"
    }
   ],
   "source": [
    "d"
   ]
  },
  {
   "cell_type": "code",
   "execution_count": 57,
   "id": "74102a9e-8530-4897-a8c4-7a71920d90c6",
   "metadata": {},
   "outputs": [
    {
     "data": {
      "text/plain": [
       "array([100, 400,   3,   4])"
      ]
     },
     "execution_count": 57,
     "metadata": {},
     "output_type": "execute_result"
    }
   ],
   "source": [
    "a"
   ]
  },
  {
   "cell_type": "code",
   "execution_count": 58,
   "id": "a38ddfd1-82f7-4b34-94aa-99aa36206e4e",
   "metadata": {},
   "outputs": [],
   "source": [
    "a[1] = 400"
   ]
  },
  {
   "cell_type": "code",
   "execution_count": 59,
   "id": "7d685d0f-ee2f-4e31-9380-401958edf2cd",
   "metadata": {},
   "outputs": [
    {
     "data": {
      "text/plain": [
       "array([100, 400,   3,   4])"
      ]
     },
     "execution_count": 59,
     "metadata": {},
     "output_type": "execute_result"
    }
   ],
   "source": [
    "a"
   ]
  },
  {
   "cell_type": "code",
   "execution_count": 60,
   "id": "1ac4a42b-0d23-4406-ab20-fd96f2851abe",
   "metadata": {},
   "outputs": [
    {
     "data": {
      "text/plain": [
       "array([100,   2,   3,   4])"
      ]
     },
     "execution_count": 60,
     "metadata": {},
     "output_type": "execute_result"
    }
   ],
   "source": [
    "d"
   ]
  },
  {
   "cell_type": "code",
   "execution_count": 61,
   "id": "f8391f85-57de-442c-b8ce-26fa02db3c7e",
   "metadata": {},
   "outputs": [],
   "source": [
    "# Means \"d\" is deep copy of \"a\" i.e. any change of \"d\" can't be seen in \"a\" or ice-versa. as they store the data at the different locations."
   ]
  },
  {
   "cell_type": "code",
   "execution_count": 62,
   "id": "ecb07af1-ae2b-4e17-85d0-11260b35f4c1",
   "metadata": {},
   "outputs": [
    {
     "data": {
      "text/plain": [
       "array([[ True, False, False],\n",
       "       [False,  True, False],\n",
       "       [False, False,  True]])"
      ]
     },
     "execution_count": 62,
     "metadata": {},
     "output_type": "execute_result"
    }
   ],
   "source": [
    "np.fromfunction(lambda i, j : i==j , (3,3))"
   ]
  },
  {
   "cell_type": "code",
   "execution_count": 63,
   "id": "99aed3ee-a97c-4ac7-a3be-4b1baaa22363",
   "metadata": {},
   "outputs": [],
   "source": [
    "# np.fromfunction() :-it generates the data on the basis of functions that we have applied inside it"
   ]
  },
  {
   "cell_type": "code",
   "execution_count": 64,
   "id": "f85c37c5-324d-4f97-adbf-2a9782c0ebd6",
   "metadata": {},
   "outputs": [
    {
     "data": {
      "text/plain": [
       "[0, 1, 4, 9, 16]"
      ]
     },
     "execution_count": 64,
     "metadata": {},
     "output_type": "execute_result"
    }
   ],
   "source": [
    "[i*i for i in range(5)]"
   ]
  },
  {
   "cell_type": "code",
   "execution_count": null,
   "id": "3e239304-8469-4ae9-8d5a-2d482a0f029a",
   "metadata": {},
   "outputs": [],
   "source": []
  },
  {
   "cell_type": "code",
   "execution_count": 68,
   "id": "3ddba112-515e-406e-bb4a-30630a81e8a9",
   "metadata": {},
   "outputs": [
    {
     "data": {
      "text/plain": [
       "array([[0., 0., 0.],\n",
       "       [0., 1., 2.],\n",
       "       [0., 2., 4.]])"
      ]
     },
     "execution_count": 68,
     "metadata": {},
     "output_type": "execute_result"
    }
   ],
   "source": [
    "np.fromfunction(lambda i, j : i*j , (3,3))"
   ]
  },
  {
   "cell_type": "code",
   "execution_count": 69,
   "id": "f7920ace-5c90-45a6-9e84-0de6c0c2fee8",
   "metadata": {},
   "outputs": [],
   "source": [
    "iterable = (i*i for i in range(5))"
   ]
  },
  {
   "cell_type": "code",
   "execution_count": 70,
   "id": "2625a660-2f8d-4620-8e3c-59dc58137077",
   "metadata": {},
   "outputs": [
    {
     "data": {
      "text/plain": [
       "array([ 0.,  1.,  4.,  9., 16.])"
      ]
     },
     "execution_count": 70,
     "metadata": {},
     "output_type": "execute_result"
    }
   ],
   "source": [
    "np.fromiter(iterable,float)"
   ]
  },
  {
   "cell_type": "code",
   "execution_count": 71,
   "id": "c2478390-df95-48b1-a255-9fdc9a65b24b",
   "metadata": {},
   "outputs": [
    {
     "data": {
      "text/plain": [
       "array([234., 234.])"
      ]
     },
     "execution_count": 71,
     "metadata": {},
     "output_type": "execute_result"
    }
   ],
   "source": [
    "np.fromstring('234 234' , sep= ' ')"
   ]
  },
  {
   "cell_type": "code",
   "execution_count": 72,
   "id": "fbf7e044-35f2-4279-88f1-0c72e4922a72",
   "metadata": {},
   "outputs": [
    {
     "data": {
      "text/plain": [
       "array([4., 5.])"
      ]
     },
     "execution_count": 72,
     "metadata": {},
     "output_type": "execute_result"
    }
   ],
   "source": [
    "np.fromstring('4,5' , sep= ',')"
   ]
  },
  {
   "cell_type": "code",
   "execution_count": 73,
   "id": "b99a8507-2782-4bfd-9bd2-24720366d9eb",
   "metadata": {},
   "outputs": [],
   "source": [
    "#Numpy - Data Types."
   ]
  },
  {
   "cell_type": "code",
   "execution_count": 74,
   "id": "2413012c-1feb-49fd-88d5-ba14dd5fab8d",
   "metadata": {},
   "outputs": [],
   "source": [
    "l = [2,3,4,5,6]"
   ]
  },
  {
   "cell_type": "code",
   "execution_count": 75,
   "id": "bf598728-6398-4991-baa6-18a0b34b48f6",
   "metadata": {},
   "outputs": [],
   "source": [
    "ar = np.array(l)"
   ]
  },
  {
   "cell_type": "code",
   "execution_count": 76,
   "id": "57fe1427-583e-48ca-adc8-c8beb5641931",
   "metadata": {},
   "outputs": [
    {
     "data": {
      "text/plain": [
       "array([2, 3, 4, 5, 6])"
      ]
     },
     "execution_count": 76,
     "metadata": {},
     "output_type": "execute_result"
    }
   ],
   "source": [
    "ar"
   ]
  },
  {
   "cell_type": "code",
   "execution_count": 77,
   "id": "aa9b5aa2-6c7a-4805-9130-b75a6456991c",
   "metadata": {},
   "outputs": [
    {
     "data": {
      "text/plain": [
       "1"
      ]
     },
     "execution_count": 77,
     "metadata": {},
     "output_type": "execute_result"
    }
   ],
   "source": [
    "ar.ndim"
   ]
  },
  {
   "cell_type": "code",
   "execution_count": 78,
   "id": "bccfd5cd-e8c5-4efe-ac36-0e37142e9ddb",
   "metadata": {},
   "outputs": [],
   "source": [
    "# means \"ar\" has 1 dimension\n"
   ]
  },
  {
   "cell_type": "code",
   "execution_count": 79,
   "id": "b2e28e1a-69f2-49c2-9390-1d99f735b26d",
   "metadata": {},
   "outputs": [],
   "source": [
    "ar2 = np.array([[1,2,3,4] , [2,3,4,5]])"
   ]
  },
  {
   "cell_type": "code",
   "execution_count": 80,
   "id": "546a23ff-27a7-4cb5-bef8-c431d8505e6d",
   "metadata": {},
   "outputs": [
    {
     "data": {
      "text/plain": [
       "array([[1, 2, 3, 4],\n",
       "       [2, 3, 4, 5]])"
      ]
     },
     "execution_count": 80,
     "metadata": {},
     "output_type": "execute_result"
    }
   ],
   "source": [
    "ar2"
   ]
  },
  {
   "cell_type": "code",
   "execution_count": 86,
   "id": "a69d96c2-7345-483e-9063-127bbdab0a37",
   "metadata": {},
   "outputs": [
    {
     "data": {
      "text/plain": [
       "2"
      ]
     },
     "execution_count": 86,
     "metadata": {},
     "output_type": "execute_result"
    }
   ],
   "source": [
    "ar2.ndim"
   ]
  },
  {
   "cell_type": "code",
   "execution_count": 87,
   "id": "fda20167-4f95-42f9-8846-8c2f0726287c",
   "metadata": {},
   "outputs": [
    {
     "data": {
      "text/plain": [
       "5"
      ]
     },
     "execution_count": 87,
     "metadata": {},
     "output_type": "execute_result"
    }
   ],
   "source": [
    "ar.size"
   ]
  },
  {
   "cell_type": "code",
   "execution_count": 88,
   "id": "fd802008-0428-48b2-b3b4-bff11f059298",
   "metadata": {},
   "outputs": [
    {
     "data": {
      "text/plain": [
       "8"
      ]
     },
     "execution_count": 88,
     "metadata": {},
     "output_type": "execute_result"
    }
   ],
   "source": [
    "ar2.size"
   ]
  },
  {
   "cell_type": "code",
   "execution_count": 89,
   "id": "04aae56c-ed8c-4538-85c8-d8ecf2f5d940",
   "metadata": {},
   "outputs": [
    {
     "data": {
      "text/plain": [
       "array([2, 3, 4, 5, 6])"
      ]
     },
     "execution_count": 89,
     "metadata": {},
     "output_type": "execute_result"
    }
   ],
   "source": [
    "ar"
   ]
  },
  {
   "cell_type": "code",
   "execution_count": 90,
   "id": "aebe1f2a-f153-4d9d-b09e-04f41ecbf987",
   "metadata": {},
   "outputs": [
    {
     "data": {
      "text/plain": [
       "array([[1, 2, 3, 4],\n",
       "       [2, 3, 4, 5]])"
      ]
     },
     "execution_count": 90,
     "metadata": {},
     "output_type": "execute_result"
    }
   ],
   "source": [
    "ar2"
   ]
  },
  {
   "cell_type": "code",
   "execution_count": 91,
   "id": "6c9e6eb4-7044-4c70-9847-c7de69c71881",
   "metadata": {},
   "outputs": [
    {
     "data": {
      "text/plain": [
       "(5,)"
      ]
     },
     "execution_count": 91,
     "metadata": {},
     "output_type": "execute_result"
    }
   ],
   "source": [
    "ar.shape"
   ]
  },
  {
   "cell_type": "code",
   "execution_count": 92,
   "id": "dcf5c9c1-6371-4001-8cba-ce835284e53c",
   "metadata": {},
   "outputs": [],
   "source": [
    "# means 1 row and 5 columns"
   ]
  },
  {
   "cell_type": "code",
   "execution_count": 93,
   "id": "467ad9d2-e87e-4ba5-8701-2687fad85555",
   "metadata": {},
   "outputs": [
    {
     "data": {
      "text/plain": [
       "(2, 4)"
      ]
     },
     "execution_count": 93,
     "metadata": {},
     "output_type": "execute_result"
    }
   ],
   "source": [
    "ar2.shape"
   ]
  },
  {
   "cell_type": "code",
   "execution_count": 94,
   "id": "9739f85a-486e-4603-83fd-cc833514083f",
   "metadata": {},
   "outputs": [],
   "source": [
    "# means two rows and 4 columns."
   ]
  },
  {
   "cell_type": "code",
   "execution_count": 95,
   "id": "297867d1-f7c6-499b-b504-6efd5a225ebb",
   "metadata": {},
   "outputs": [
    {
     "data": {
      "text/plain": [
       "dtype('int64')"
      ]
     },
     "execution_count": 95,
     "metadata": {},
     "output_type": "execute_result"
    }
   ],
   "source": [
    "ar.dtype"
   ]
  },
  {
   "cell_type": "code",
   "execution_count": 96,
   "id": "69408639-5c50-42c1-b860-1bd7d07ad121",
   "metadata": {},
   "outputs": [
    {
     "data": {
      "text/plain": [
       "dtype('int64')"
      ]
     },
     "execution_count": 96,
     "metadata": {},
     "output_type": "execute_result"
    }
   ],
   "source": [
    "ar2.dtype\n"
   ]
  },
  {
   "cell_type": "code",
   "execution_count": 97,
   "id": "f854481b-8b0b-4f23-8485-51996e72962b",
   "metadata": {},
   "outputs": [],
   "source": [
    "ar22 = np.array([(1.4,45,45) , (23,45,66)])"
   ]
  },
  {
   "cell_type": "code",
   "execution_count": 98,
   "id": "d7974c33-ad51-4a3f-8b73-566af19d49b7",
   "metadata": {},
   "outputs": [
    {
     "data": {
      "text/plain": [
       "array([[ 1.4, 45. , 45. ],\n",
       "       [23. , 45. , 66. ]])"
      ]
     },
     "execution_count": 98,
     "metadata": {},
     "output_type": "execute_result"
    }
   ],
   "source": [
    "ar22"
   ]
  },
  {
   "cell_type": "code",
   "execution_count": 99,
   "id": "70214aa5-6876-4f7d-85be-5dbd4485c514",
   "metadata": {},
   "outputs": [
    {
     "data": {
      "text/plain": [
       "dtype('float64')"
      ]
     },
     "execution_count": 99,
     "metadata": {},
     "output_type": "execute_result"
    }
   ],
   "source": [
    "ar22.dtype"
   ]
  },
  {
   "cell_type": "code",
   "execution_count": 100,
   "id": "374d8f0f-ea8e-42a6-85d8-aa477cfdc3ba",
   "metadata": {},
   "outputs": [
    {
     "data": {
      "text/plain": [
       "[0, 1, 2, 3, 4]"
      ]
     },
     "execution_count": 100,
     "metadata": {},
     "output_type": "execute_result"
    }
   ],
   "source": [
    "list(range(5))"
   ]
  },
  {
   "cell_type": "code",
   "execution_count": 101,
   "id": "e490c758-c9a1-46a6-b23a-e3b54f155fe9",
   "metadata": {},
   "outputs": [
    {
     "ename": "TypeError",
     "evalue": "'float' object cannot be interpreted as an integer",
     "output_type": "error",
     "traceback": [
      "\u001b[1;31m---------------------------------------------------------------------------\u001b[0m",
      "\u001b[1;31mTypeError\u001b[0m                                 Traceback (most recent call last)",
      "Cell \u001b[1;32mIn[101], line 1\u001b[0m\n\u001b[1;32m----> 1\u001b[0m \u001b[38;5;28mlist\u001b[39m(\u001b[38;5;28;43mrange\u001b[39;49m\u001b[43m(\u001b[49m\u001b[38;5;241;43m0.1\u001b[39;49m\u001b[43m \u001b[49m\u001b[43m,\u001b[49m\u001b[38;5;241;43m5\u001b[39;49m\u001b[43m)\u001b[49m)\n",
      "\u001b[1;31mTypeError\u001b[0m: 'float' object cannot be interpreted as an integer"
     ]
    }
   ],
   "source": [
    "list(range(0.1 ,5))"
   ]
  },
  {
   "cell_type": "code",
   "execution_count": 102,
   "id": "05eba3b5-9bc9-4e65-a96a-bbd458c50253",
   "metadata": {},
   "outputs": [
    {
     "data": {
      "text/plain": [
       "array([2.3, 3.3, 4.3, 5.3])"
      ]
     },
     "execution_count": 102,
     "metadata": {},
     "output_type": "execute_result"
    }
   ],
   "source": [
    "np.arange(2.3,5.6)"
   ]
  },
  {
   "cell_type": "code",
   "execution_count": 103,
   "id": "9920f6ad-81d1-476a-912a-f970e844f12a",
   "metadata": {},
   "outputs": [
    {
     "data": {
      "text/plain": [
       "[np.float64(2.3),\n",
       " np.float64(2.5999999999999996),\n",
       " np.float64(2.8999999999999995),\n",
       " np.float64(3.1999999999999993),\n",
       " np.float64(3.499999999999999),\n",
       " np.float64(3.799999999999999),\n",
       " np.float64(4.099999999999999),\n",
       " np.float64(4.399999999999999),\n",
       " np.float64(4.699999999999998),\n",
       " np.float64(4.999999999999998),\n",
       " np.float64(5.299999999999998)]"
      ]
     },
     "execution_count": 103,
     "metadata": {},
     "output_type": "execute_result"
    }
   ],
   "source": [
    "list(np.arange(2.3,5.6,.3))"
   ]
  },
  {
   "cell_type": "code",
   "execution_count": 104,
   "id": "098be0f1-bccb-4a69-ab57-225ba9f3f237",
   "metadata": {},
   "outputs": [],
   "source": [
    "# measn here is jump of .3 from starting to the end."
   ]
  },
  {
   "cell_type": "code",
   "execution_count": 105,
   "id": "69fd7045-e1f9-4832-80f3-5428d4c6f507",
   "metadata": {},
   "outputs": [
    {
     "data": {
      "text/plain": [
       "array([1.        , 1.44444444, 1.88888889, 2.33333333, 2.77777778,\n",
       "       3.22222222, 3.66666667, 4.11111111, 4.55555556, 5.        ])"
      ]
     },
     "execution_count": 105,
     "metadata": {},
     "output_type": "execute_result"
    }
   ],
   "source": [
    "np.linspace(1,5,10)\n",
    "# here it will give 10 elements from 1 to 5"
   ]
  },
  {
   "cell_type": "code",
   "execution_count": 106,
   "id": "9840e771-f84c-43a4-bc1e-c948bd5545f7",
   "metadata": {},
   "outputs": [
    {
     "data": {
      "text/plain": [
       "array([0., 0., 0., 0., 0.])"
      ]
     },
     "execution_count": 106,
     "metadata": {},
     "output_type": "execute_result"
    }
   ],
   "source": [
    "np.zeros(5)"
   ]
  },
  {
   "cell_type": "code",
   "execution_count": 107,
   "id": "664e6162-ef45-4957-81e5-df238ff4a02d",
   "metadata": {},
   "outputs": [
    {
     "data": {
      "text/plain": [
       "array([[0., 0., 0., 0.],\n",
       "       [0., 0., 0., 0.],\n",
       "       [0., 0., 0., 0.]])"
      ]
     },
     "execution_count": 107,
     "metadata": {},
     "output_type": "execute_result"
    }
   ],
   "source": [
    "np.zeros((3,4))"
   ]
  },
  {
   "cell_type": "code",
   "execution_count": 116,
   "id": "8bccecd9-e2bd-45df-9a23-282ba8140ea9",
   "metadata": {},
   "outputs": [
    {
     "data": {
      "text/plain": [
       "array([[[0., 0.],\n",
       "        [0., 0.],\n",
       "        [0., 0.],\n",
       "        [0., 0.]],\n",
       "\n",
       "       [[0., 0.],\n",
       "        [0., 0.],\n",
       "        [0., 0.],\n",
       "        [0., 0.]],\n",
       "\n",
       "       [[0., 0.],\n",
       "        [0., 0.],\n",
       "        [0., 0.],\n",
       "        [0., 0.]]])"
      ]
     },
     "execution_count": 116,
     "metadata": {},
     "output_type": "execute_result"
    }
   ],
   "source": [
    "np.zeros((3,4,2))\n",
    "# it will make three matrix each of (4*2)\n",
    "# and is 3d."
   ]
  },
  {
   "cell_type": "code",
   "execution_count": 117,
   "id": "8c7ec3ec-414b-4b38-9335-29b4f222bdc7",
   "metadata": {},
   "outputs": [],
   "source": [
    "ar4 = np.zeros((3,4,2,3))\n",
    "# it will give 3 matrix eac is 4d and of (2*3)"
   ]
  },
  {
   "cell_type": "code",
   "execution_count": 118,
   "id": "186260c6-2a16-4489-a608-655340fddc73",
   "metadata": {},
   "outputs": [
    {
     "data": {
      "text/plain": [
       "4"
      ]
     },
     "execution_count": 118,
     "metadata": {},
     "output_type": "execute_result"
    }
   ],
   "source": [
    "ar4.ndim\n"
   ]
  },
  {
   "cell_type": "code",
   "execution_count": 119,
   "id": "5012dc58-c2bb-4ccf-b454-329c3c1cdcd3",
   "metadata": {},
   "outputs": [
    {
     "data": {
      "text/plain": [
       "array([[[[0., 0., 0.],\n",
       "         [0., 0., 0.]],\n",
       "\n",
       "        [[0., 0., 0.],\n",
       "         [0., 0., 0.]],\n",
       "\n",
       "        [[0., 0., 0.],\n",
       "         [0., 0., 0.]],\n",
       "\n",
       "        [[0., 0., 0.],\n",
       "         [0., 0., 0.]]],\n",
       "\n",
       "\n",
       "       [[[0., 0., 0.],\n",
       "         [0., 0., 0.]],\n",
       "\n",
       "        [[0., 0., 0.],\n",
       "         [0., 0., 0.]],\n",
       "\n",
       "        [[0., 0., 0.],\n",
       "         [0., 0., 0.]],\n",
       "\n",
       "        [[0., 0., 0.],\n",
       "         [0., 0., 0.]]],\n",
       "\n",
       "\n",
       "       [[[0., 0., 0.],\n",
       "         [0., 0., 0.]],\n",
       "\n",
       "        [[0., 0., 0.],\n",
       "         [0., 0., 0.]],\n",
       "\n",
       "        [[0., 0., 0.],\n",
       "         [0., 0., 0.]],\n",
       "\n",
       "        [[0., 0., 0.],\n",
       "         [0., 0., 0.]]]])"
      ]
     },
     "execution_count": 119,
     "metadata": {},
     "output_type": "execute_result"
    }
   ],
   "source": [
    "ar4"
   ]
  },
  {
   "cell_type": "code",
   "execution_count": 120,
   "id": "0b99b9eb-bda8-4adb-b738-be760a79bfff",
   "metadata": {},
   "outputs": [],
   "source": [
    "# 3d array are used in computer vision and deeep learning"
   ]
  },
  {
   "cell_type": "code",
   "execution_count": null,
   "id": "87390e3b-99af-4cde-b887-88094d547554",
   "metadata": {
    "jp-MarkdownHeadingCollapsed": true
   },
   "outputs": [],
   "source": []
  },
  {
   "cell_type": "code",
   "execution_count": 121,
   "id": "31e0cd68-cf95-4d5e-b9ab-d0ace97bc3c7",
   "metadata": {},
   "outputs": [
    {
     "data": {
      "text/plain": [
       "array([1., 1., 1., 1.])"
      ]
     },
     "execution_count": 121,
     "metadata": {},
     "output_type": "execute_result"
    }
   ],
   "source": [
    "np.ones(4)"
   ]
  },
  {
   "cell_type": "code",
   "execution_count": 122,
   "id": "b741630a-5c7b-48d4-9964-abd706bcb1ac",
   "metadata": {},
   "outputs": [
    {
     "data": {
      "text/plain": [
       "array([[1., 1., 1.],\n",
       "       [1., 1., 1.]])"
      ]
     },
     "execution_count": 122,
     "metadata": {},
     "output_type": "execute_result"
    }
   ],
   "source": [
    "np.ones((2,3))"
   ]
  },
  {
   "cell_type": "code",
   "execution_count": 123,
   "id": "3bce7a48-5228-4d73-af2d-bea6912fe0f7",
   "metadata": {},
   "outputs": [],
   "source": [
    "on =np.ones((2,3,2))"
   ]
  },
  {
   "cell_type": "code",
   "execution_count": 124,
   "id": "2f752447-cfed-44b9-b77e-08c29d2b1ab3",
   "metadata": {},
   "outputs": [
    {
     "data": {
      "text/plain": [
       "array([[[6., 6.],\n",
       "        [6., 6.],\n",
       "        [6., 6.]],\n",
       "\n",
       "       [[6., 6.],\n",
       "        [6., 6.],\n",
       "        [6., 6.]]])"
      ]
     },
     "execution_count": 124,
     "metadata": {},
     "output_type": "execute_result"
    }
   ],
   "source": [
    "on + 5\n"
   ]
  },
  {
   "cell_type": "code",
   "execution_count": 125,
   "id": "5a06e023-b4be-42bb-b3b5-fcf134ee14e7",
   "metadata": {},
   "outputs": [
    {
     "data": {
      "text/plain": [
       "array([[[4., 4.],\n",
       "        [4., 4.],\n",
       "        [4., 4.]],\n",
       "\n",
       "       [[4., 4.],\n",
       "        [4., 4.],\n",
       "        [4., 4.]]])"
      ]
     },
     "execution_count": 125,
     "metadata": {},
     "output_type": "execute_result"
    }
   ],
   "source": [
    "on *4\n"
   ]
  },
  {
   "cell_type": "code",
   "execution_count": 126,
   "id": "9d09ebdb-af46-4b2d-b830-65dade59a6d7",
   "metadata": {},
   "outputs": [
    {
     "data": {
      "text/plain": [
       "array([[0., 0., 0., 1., 1., 1.],\n",
       "       [2., 2., 2., 0., 1., 2.],\n",
       "       [0., 1., 2., 0., 1., 2.]])"
      ]
     },
     "execution_count": 126,
     "metadata": {},
     "output_type": "execute_result"
    }
   ],
   "source": [
    "np.empty((3,6))"
   ]
  },
  {
   "cell_type": "code",
   "execution_count": 127,
   "id": "d96a21e9-9536-48c2-abb1-8baf5122e228",
   "metadata": {},
   "outputs": [
    {
     "data": {
      "text/plain": [
       "array([[1., 0., 0., 0.],\n",
       "       [0., 1., 0., 0.],\n",
       "       [0., 0., 1., 0.],\n",
       "       [0., 0., 0., 1.]])"
      ]
     },
     "execution_count": 127,
     "metadata": {},
     "output_type": "execute_result"
    }
   ],
   "source": [
    "np.eye(4)"
   ]
  },
  {
   "cell_type": "code",
   "execution_count": 128,
   "id": "e47af07d-7951-4606-a1a3-1f41c0a07199",
   "metadata": {},
   "outputs": [
    {
     "data": {
      "text/plain": [
       "array([2.        , 2.10526316, 2.21052632, 2.31578947, 2.42105263,\n",
       "       2.52631579, 2.63157895, 2.73684211, 2.84210526, 2.94736842,\n",
       "       3.05263158, 3.15789474, 3.26315789, 3.36842105, 3.47368421,\n",
       "       3.57894737, 3.68421053, 3.78947368, 3.89473684, 4.        ])"
      ]
     },
     "execution_count": 128,
     "metadata": {},
     "output_type": "execute_result"
    }
   ],
   "source": [
    "np.linspace(2,4 , 20)"
   ]
  },
  {
   "cell_type": "code",
   "execution_count": 129,
   "id": "2f9372db-04c0-46e9-aee1-615e644310fb",
   "metadata": {},
   "outputs": [],
   "source": [
    "# \"means 20 elements from 2 to 4\""
   ]
  },
  {
   "cell_type": "code",
   "execution_count": 147,
   "id": "d0c0617e-ce39-4ef0-9173-44cc42c9e6a3",
   "metadata": {},
   "outputs": [
    {
     "data": {
      "text/plain": [
       "array([   100.        ,    215.443469  ,    464.15888336,   1000.        ,\n",
       "         2154.43469003,   4641.58883361,  10000.        ,  21544.34690032,\n",
       "        46415.88833613, 100000.        ])"
      ]
     },
     "execution_count": 147,
     "metadata": {},
     "output_type": "execute_result"
    }
   ],
   "source": [
    "np.logspace(2,5 , 10)\n",
    "# it took 10 elements with base as 10 of log"
   ]
  },
  {
   "cell_type": "code",
   "execution_count": 148,
   "id": "4d88d65f-7dd4-4873-932b-7b820ec6df59",
   "metadata": {},
   "outputs": [
    {
     "data": {
      "text/plain": [
       "array([ 4.        ,  5.0396842 ,  6.34960421,  8.        , 10.0793684 ,\n",
       "       12.69920842, 16.        , 20.1587368 , 25.39841683, 32.        ])"
      ]
     },
     "execution_count": 148,
     "metadata": {},
     "output_type": "execute_result"
    }
   ],
   "source": [
    "np.logspace(2,5 , 10, base = 2)"
   ]
  },
  {
   "cell_type": "code",
   "execution_count": 149,
   "id": "8aa9a944-410c-4268-ab97-6a086f810713",
   "metadata": {},
   "outputs": [
    {
     "data": {
      "text/plain": [
       "array([[ 1.54853516, -0.60995432,  0.64246194, -0.18656358],\n",
       "       [-0.12021288,  1.85938636, -0.93396826, -0.74244505],\n",
       "       [ 0.71804354,  0.34163994, -0.90004156, -0.12368026]])"
      ]
     },
     "execution_count": 149,
     "metadata": {},
     "output_type": "execute_result"
    }
   ],
   "source": [
    "np.random.randn(3,4)"
   ]
  },
  {
   "cell_type": "code",
   "execution_count": 150,
   "id": "aee8101d-4b08-41f6-89c6-bc73c8c54e3a",
   "metadata": {},
   "outputs": [],
   "source": [
    "arr = np.random.randn(3,4)"
   ]
  },
  {
   "cell_type": "code",
   "execution_count": 151,
   "id": "b4f98372-d6d1-4774-98a1-7017b78ba843",
   "metadata": {},
   "outputs": [
    {
     "name": "stdout",
     "output_type": "stream",
     "text": [
      "Requirement already satisfied: pandas in c:\\users\\hp\\appdata\\local\\programs\\python\\python313\\lib\\site-packages (2.2.3)\n",
      "Requirement already satisfied: numpy>=1.26.0 in c:\\users\\hp\\appdata\\local\\programs\\python\\python313\\lib\\site-packages (from pandas) (2.2.1)\n",
      "Requirement already satisfied: python-dateutil>=2.8.2 in c:\\users\\hp\\appdata\\local\\programs\\python\\python313\\lib\\site-packages (from pandas) (2.9.0.post0)\n",
      "Requirement already satisfied: pytz>=2020.1 in c:\\users\\hp\\appdata\\local\\programs\\python\\python313\\lib\\site-packages (from pandas) (2024.2)\n",
      "Requirement already satisfied: tzdata>=2022.7 in c:\\users\\hp\\appdata\\local\\programs\\python\\python313\\lib\\site-packages (from pandas) (2024.2)\n",
      "Requirement already satisfied: six>=1.5 in c:\\users\\hp\\appdata\\local\\programs\\python\\python313\\lib\\site-packages (from python-dateutil>=2.8.2->pandas) (1.16.0)\n"
     ]
    }
   ],
   "source": [
    "!pip install pandas"
   ]
  },
  {
   "cell_type": "code",
   "execution_count": 152,
   "id": "6d92bb61-b5ca-4b70-90a8-cdeaf08bbaf1",
   "metadata": {},
   "outputs": [],
   "source": [
    "import pandas as pd "
   ]
  },
  {
   "cell_type": "code",
   "execution_count": null,
   "id": "aac9ae48-fe65-4e2e-b97a-a5cbea177615",
   "metadata": {},
   "outputs": [],
   "source": []
  },
  {
   "cell_type": "code",
   "execution_count": 153,
   "id": "dbcf4067-1e75-4c0a-b422-1e0f795cad3f",
   "metadata": {},
   "outputs": [
    {
     "data": {
      "text/html": [
       "<div>\n",
       "<style scoped>\n",
       "    .dataframe tbody tr th:only-of-type {\n",
       "        vertical-align: middle;\n",
       "    }\n",
       "\n",
       "    .dataframe tbody tr th {\n",
       "        vertical-align: top;\n",
       "    }\n",
       "\n",
       "    .dataframe thead th {\n",
       "        text-align: right;\n",
       "    }\n",
       "</style>\n",
       "<table border=\"1\" class=\"dataframe\">\n",
       "  <thead>\n",
       "    <tr style=\"text-align: right;\">\n",
       "      <th></th>\n",
       "      <th>0</th>\n",
       "      <th>1</th>\n",
       "      <th>2</th>\n",
       "      <th>3</th>\n",
       "    </tr>\n",
       "  </thead>\n",
       "  <tbody>\n",
       "    <tr>\n",
       "      <th>0</th>\n",
       "      <td>0.698746</td>\n",
       "      <td>1.014845</td>\n",
       "      <td>-0.284914</td>\n",
       "      <td>0.356714</td>\n",
       "    </tr>\n",
       "    <tr>\n",
       "      <th>1</th>\n",
       "      <td>0.418848</td>\n",
       "      <td>-1.414290</td>\n",
       "      <td>-0.098720</td>\n",
       "      <td>0.944262</td>\n",
       "    </tr>\n",
       "    <tr>\n",
       "      <th>2</th>\n",
       "      <td>0.638467</td>\n",
       "      <td>-0.792319</td>\n",
       "      <td>-0.234599</td>\n",
       "      <td>-1.149595</td>\n",
       "    </tr>\n",
       "  </tbody>\n",
       "</table>\n",
       "</div>"
      ],
      "text/plain": [
       "          0         1         2         3\n",
       "0  0.698746  1.014845 -0.284914  0.356714\n",
       "1  0.418848 -1.414290 -0.098720  0.944262\n",
       "2  0.638467 -0.792319 -0.234599 -1.149595"
      ]
     },
     "execution_count": 153,
     "metadata": {},
     "output_type": "execute_result"
    }
   ],
   "source": [
    "pd.DataFrame(arr)\n",
    "# here the arrays \"arr\" will be converted into the dataframe."
   ]
  },
  {
   "cell_type": "code",
   "execution_count": 154,
   "id": "af7b32b9-31fd-4b93-aa83-cb929c8f99c2",
   "metadata": {},
   "outputs": [
    {
     "data": {
      "text/plain": [
       "array([[0.96705287, 0.39060904, 0.15969185, 0.9828264 ],\n",
       "       [0.19934683, 0.62226512, 0.80545415, 0.08853453],\n",
       "       [0.60389656, 0.99688466, 0.97367451, 0.84794012]])"
      ]
     },
     "execution_count": 154,
     "metadata": {},
     "output_type": "execute_result"
    }
   ],
   "source": [
    "np.random.rand(3,4)\n",
    "# it will produce the random data."
   ]
  },
  {
   "cell_type": "code",
   "execution_count": 157,
   "id": "22b83c8b-0c10-4660-93d2-db1ccb3014a9",
   "metadata": {},
   "outputs": [],
   "source": [
    "# random.randn() , it will give data of standard normal distribution means here mean is \"0\" and the thestandard deviation is 1. \n",
    "# which is not in the random.rand and the random.randint.\n",
    "# In the random.randint the output isonly integers."
   ]
  },
  {
   "cell_type": "code",
   "execution_count": 159,
   "id": "158bba75-8615-40be-8978-af0b5311e419",
   "metadata": {},
   "outputs": [
    {
     "data": {
      "text/html": [
       "<div>\n",
       "<style scoped>\n",
       "    .dataframe tbody tr th:only-of-type {\n",
       "        vertical-align: middle;\n",
       "    }\n",
       "\n",
       "    .dataframe tbody tr th {\n",
       "        vertical-align: top;\n",
       "    }\n",
       "\n",
       "    .dataframe thead th {\n",
       "        text-align: right;\n",
       "    }\n",
       "</style>\n",
       "<table border=\"1\" class=\"dataframe\">\n",
       "  <thead>\n",
       "    <tr style=\"text-align: right;\">\n",
       "      <th></th>\n",
       "      <th>0</th>\n",
       "      <th>1</th>\n",
       "      <th>2</th>\n",
       "      <th>3</th>\n",
       "      <th>4</th>\n",
       "      <th>5</th>\n",
       "      <th>6</th>\n",
       "      <th>7</th>\n",
       "      <th>8</th>\n",
       "      <th>9</th>\n",
       "      <th>...</th>\n",
       "      <th>390</th>\n",
       "      <th>391</th>\n",
       "      <th>392</th>\n",
       "      <th>393</th>\n",
       "      <th>394</th>\n",
       "      <th>395</th>\n",
       "      <th>396</th>\n",
       "      <th>397</th>\n",
       "      <th>398</th>\n",
       "      <th>399</th>\n",
       "    </tr>\n",
       "  </thead>\n",
       "  <tbody>\n",
       "    <tr>\n",
       "      <th>0</th>\n",
       "      <td>108</td>\n",
       "      <td>77</td>\n",
       "      <td>98</td>\n",
       "      <td>104</td>\n",
       "      <td>99</td>\n",
       "      <td>50</td>\n",
       "      <td>28</td>\n",
       "      <td>40</td>\n",
       "      <td>23</td>\n",
       "      <td>76</td>\n",
       "      <td>...</td>\n",
       "      <td>61</td>\n",
       "      <td>93</td>\n",
       "      <td>60</td>\n",
       "      <td>98</td>\n",
       "      <td>77</td>\n",
       "      <td>17</td>\n",
       "      <td>39</td>\n",
       "      <td>64</td>\n",
       "      <td>46</td>\n",
       "      <td>9</td>\n",
       "    </tr>\n",
       "    <tr>\n",
       "      <th>1</th>\n",
       "      <td>53</td>\n",
       "      <td>2</td>\n",
       "      <td>36</td>\n",
       "      <td>39</td>\n",
       "      <td>108</td>\n",
       "      <td>59</td>\n",
       "      <td>79</td>\n",
       "      <td>42</td>\n",
       "      <td>58</td>\n",
       "      <td>52</td>\n",
       "      <td>...</td>\n",
       "      <td>70</td>\n",
       "      <td>58</td>\n",
       "      <td>55</td>\n",
       "      <td>10</td>\n",
       "      <td>21</td>\n",
       "      <td>9</td>\n",
       "      <td>82</td>\n",
       "      <td>1</td>\n",
       "      <td>54</td>\n",
       "      <td>88</td>\n",
       "    </tr>\n",
       "    <tr>\n",
       "      <th>2</th>\n",
       "      <td>31</td>\n",
       "      <td>103</td>\n",
       "      <td>50</td>\n",
       "      <td>102</td>\n",
       "      <td>24</td>\n",
       "      <td>91</td>\n",
       "      <td>73</td>\n",
       "      <td>6</td>\n",
       "      <td>103</td>\n",
       "      <td>46</td>\n",
       "      <td>...</td>\n",
       "      <td>58</td>\n",
       "      <td>95</td>\n",
       "      <td>25</td>\n",
       "      <td>76</td>\n",
       "      <td>68</td>\n",
       "      <td>35</td>\n",
       "      <td>2</td>\n",
       "      <td>79</td>\n",
       "      <td>32</td>\n",
       "      <td>88</td>\n",
       "    </tr>\n",
       "    <tr>\n",
       "      <th>3</th>\n",
       "      <td>106</td>\n",
       "      <td>60</td>\n",
       "      <td>82</td>\n",
       "      <td>69</td>\n",
       "      <td>36</td>\n",
       "      <td>45</td>\n",
       "      <td>49</td>\n",
       "      <td>66</td>\n",
       "      <td>86</td>\n",
       "      <td>86</td>\n",
       "      <td>...</td>\n",
       "      <td>13</td>\n",
       "      <td>19</td>\n",
       "      <td>17</td>\n",
       "      <td>50</td>\n",
       "      <td>5</td>\n",
       "      <td>22</td>\n",
       "      <td>103</td>\n",
       "      <td>60</td>\n",
       "      <td>6</td>\n",
       "      <td>63</td>\n",
       "    </tr>\n",
       "    <tr>\n",
       "      <th>4</th>\n",
       "      <td>78</td>\n",
       "      <td>69</td>\n",
       "      <td>76</td>\n",
       "      <td>92</td>\n",
       "      <td>30</td>\n",
       "      <td>72</td>\n",
       "      <td>37</td>\n",
       "      <td>96</td>\n",
       "      <td>55</td>\n",
       "      <td>83</td>\n",
       "      <td>...</td>\n",
       "      <td>18</td>\n",
       "      <td>22</td>\n",
       "      <td>96</td>\n",
       "      <td>59</td>\n",
       "      <td>48</td>\n",
       "      <td>99</td>\n",
       "      <td>87</td>\n",
       "      <td>50</td>\n",
       "      <td>33</td>\n",
       "      <td>54</td>\n",
       "    </tr>\n",
       "    <tr>\n",
       "      <th>...</th>\n",
       "      <td>...</td>\n",
       "      <td>...</td>\n",
       "      <td>...</td>\n",
       "      <td>...</td>\n",
       "      <td>...</td>\n",
       "      <td>...</td>\n",
       "      <td>...</td>\n",
       "      <td>...</td>\n",
       "      <td>...</td>\n",
       "      <td>...</td>\n",
       "      <td>...</td>\n",
       "      <td>...</td>\n",
       "      <td>...</td>\n",
       "      <td>...</td>\n",
       "      <td>...</td>\n",
       "      <td>...</td>\n",
       "      <td>...</td>\n",
       "      <td>...</td>\n",
       "      <td>...</td>\n",
       "      <td>...</td>\n",
       "      <td>...</td>\n",
       "    </tr>\n",
       "    <tr>\n",
       "      <th>295</th>\n",
       "      <td>48</td>\n",
       "      <td>104</td>\n",
       "      <td>16</td>\n",
       "      <td>84</td>\n",
       "      <td>96</td>\n",
       "      <td>51</td>\n",
       "      <td>2</td>\n",
       "      <td>15</td>\n",
       "      <td>19</td>\n",
       "      <td>58</td>\n",
       "      <td>...</td>\n",
       "      <td>99</td>\n",
       "      <td>43</td>\n",
       "      <td>89</td>\n",
       "      <td>9</td>\n",
       "      <td>37</td>\n",
       "      <td>100</td>\n",
       "      <td>28</td>\n",
       "      <td>95</td>\n",
       "      <td>1</td>\n",
       "      <td>38</td>\n",
       "    </tr>\n",
       "    <tr>\n",
       "      <th>296</th>\n",
       "      <td>54</td>\n",
       "      <td>29</td>\n",
       "      <td>38</td>\n",
       "      <td>8</td>\n",
       "      <td>1</td>\n",
       "      <td>46</td>\n",
       "      <td>105</td>\n",
       "      <td>54</td>\n",
       "      <td>72</td>\n",
       "      <td>46</td>\n",
       "      <td>...</td>\n",
       "      <td>72</td>\n",
       "      <td>94</td>\n",
       "      <td>17</td>\n",
       "      <td>106</td>\n",
       "      <td>101</td>\n",
       "      <td>95</td>\n",
       "      <td>60</td>\n",
       "      <td>6</td>\n",
       "      <td>69</td>\n",
       "      <td>46</td>\n",
       "    </tr>\n",
       "    <tr>\n",
       "      <th>297</th>\n",
       "      <td>3</td>\n",
       "      <td>85</td>\n",
       "      <td>78</td>\n",
       "      <td>96</td>\n",
       "      <td>63</td>\n",
       "      <td>93</td>\n",
       "      <td>31</td>\n",
       "      <td>89</td>\n",
       "      <td>76</td>\n",
       "      <td>90</td>\n",
       "      <td>...</td>\n",
       "      <td>93</td>\n",
       "      <td>25</td>\n",
       "      <td>86</td>\n",
       "      <td>5</td>\n",
       "      <td>76</td>\n",
       "      <td>77</td>\n",
       "      <td>101</td>\n",
       "      <td>105</td>\n",
       "      <td>75</td>\n",
       "      <td>67</td>\n",
       "    </tr>\n",
       "    <tr>\n",
       "      <th>298</th>\n",
       "      <td>93</td>\n",
       "      <td>82</td>\n",
       "      <td>94</td>\n",
       "      <td>45</td>\n",
       "      <td>98</td>\n",
       "      <td>54</td>\n",
       "      <td>22</td>\n",
       "      <td>39</td>\n",
       "      <td>37</td>\n",
       "      <td>100</td>\n",
       "      <td>...</td>\n",
       "      <td>36</td>\n",
       "      <td>4</td>\n",
       "      <td>54</td>\n",
       "      <td>50</td>\n",
       "      <td>57</td>\n",
       "      <td>59</td>\n",
       "      <td>28</td>\n",
       "      <td>92</td>\n",
       "      <td>33</td>\n",
       "      <td>64</td>\n",
       "    </tr>\n",
       "    <tr>\n",
       "      <th>299</th>\n",
       "      <td>38</td>\n",
       "      <td>24</td>\n",
       "      <td>99</td>\n",
       "      <td>58</td>\n",
       "      <td>5</td>\n",
       "      <td>64</td>\n",
       "      <td>38</td>\n",
       "      <td>36</td>\n",
       "      <td>8</td>\n",
       "      <td>60</td>\n",
       "      <td>...</td>\n",
       "      <td>77</td>\n",
       "      <td>65</td>\n",
       "      <td>106</td>\n",
       "      <td>39</td>\n",
       "      <td>79</td>\n",
       "      <td>99</td>\n",
       "      <td>62</td>\n",
       "      <td>3</td>\n",
       "      <td>56</td>\n",
       "      <td>3</td>\n",
       "    </tr>\n",
       "  </tbody>\n",
       "</table>\n",
       "<p>300 rows × 400 columns</p>\n",
       "</div>"
      ],
      "text/plain": [
       "     0    1    2    3    4    5    6    7    8    9    ...  390  391  392  \\\n",
       "0    108   77   98  104   99   50   28   40   23   76  ...   61   93   60   \n",
       "1     53    2   36   39  108   59   79   42   58   52  ...   70   58   55   \n",
       "2     31  103   50  102   24   91   73    6  103   46  ...   58   95   25   \n",
       "3    106   60   82   69   36   45   49   66   86   86  ...   13   19   17   \n",
       "4     78   69   76   92   30   72   37   96   55   83  ...   18   22   96   \n",
       "..   ...  ...  ...  ...  ...  ...  ...  ...  ...  ...  ...  ...  ...  ...   \n",
       "295   48  104   16   84   96   51    2   15   19   58  ...   99   43   89   \n",
       "296   54   29   38    8    1   46  105   54   72   46  ...   72   94   17   \n",
       "297    3   85   78   96   63   93   31   89   76   90  ...   93   25   86   \n",
       "298   93   82   94   45   98   54   22   39   37  100  ...   36    4   54   \n",
       "299   38   24   99   58    5   64   38   36    8   60  ...   77   65  106   \n",
       "\n",
       "     393  394  395  396  397  398  399  \n",
       "0     98   77   17   39   64   46    9  \n",
       "1     10   21    9   82    1   54   88  \n",
       "2     76   68   35    2   79   32   88  \n",
       "3     50    5   22  103   60    6   63  \n",
       "4     59   48   99   87   50   33   54  \n",
       "..   ...  ...  ...  ...  ...  ...  ...  \n",
       "295    9   37  100   28   95    1   38  \n",
       "296  106  101   95   60    6   69   46  \n",
       "297    5   76   77  101  105   75   67  \n",
       "298   50   57   59   28   92   33   64  \n",
       "299   39   79   99   62    3   56    3  \n",
       "\n",
       "[300 rows x 400 columns]"
      ]
     },
     "execution_count": 159,
     "metadata": {},
     "output_type": "execute_result"
    }
   ],
   "source": [
    "pd.DataFrame(np.random.randint(1,110 , (300,400)))\n",
    "# it will give a (300*400 matrix) with values from 1 to 110 and are only integers"
   ]
  },
  {
   "cell_type": "code",
   "execution_count": 163,
   "id": "941e27b3-b9ef-4224-8bdc-7a9afe4dcc00",
   "metadata": {},
   "outputs": [],
   "source": [
    "pd.DataFrame(np.random.randint(1,110 , (300,400))).to_csv('test.csv')\n",
    "# it will create a \"test.csv\" file."
   ]
  },
  {
   "cell_type": "code",
   "execution_count": 164,
   "id": "dfa812c4-8c83-40ef-9f2e-15a48862a9e8",
   "metadata": {},
   "outputs": [],
   "source": [
    "arr = np.random.rand(3,4)"
   ]
  },
  {
   "cell_type": "code",
   "execution_count": 165,
   "id": "924094e5-5b37-470e-b24e-1c1d1ca58ebc",
   "metadata": {},
   "outputs": [
    {
     "data": {
      "text/plain": [
       "array([[0.55358537, 0.57428375, 0.36738525, 0.63387398],\n",
       "       [0.35673726, 0.71534037, 0.88140306, 0.18029071],\n",
       "       [0.39628591, 0.59690446, 0.2146325 , 0.64509734]])"
      ]
     },
     "execution_count": 165,
     "metadata": {},
     "output_type": "execute_result"
    }
   ],
   "source": [
    "arr"
   ]
  },
  {
   "cell_type": "code",
   "execution_count": 166,
   "id": "443822b9-b252-4be8-a3f7-590d97616a29",
   "metadata": {},
   "outputs": [
    {
     "data": {
      "text/plain": [
       "array([[0.55358537, 0.57428375],\n",
       "       [0.36738525, 0.63387398],\n",
       "       [0.35673726, 0.71534037],\n",
       "       [0.88140306, 0.18029071],\n",
       "       [0.39628591, 0.59690446],\n",
       "       [0.2146325 , 0.64509734]])"
      ]
     },
     "execution_count": 166,
     "metadata": {},
     "output_type": "execute_result"
    }
   ],
   "source": [
    "arr.reshape(6,-1)\n",
    "# it become automatically of (6*2)"
   ]
  },
  {
   "cell_type": "code",
   "execution_count": 167,
   "id": "683660de-3236-44a2-acec-28734e94677d",
   "metadata": {},
   "outputs": [],
   "source": [
    "arr1 = arr.reshape(6,-134353553435)"
   ]
  },
  {
   "cell_type": "code",
   "execution_count": 168,
   "id": "4d6919b5-9369-4052-be18-895148800908",
   "metadata": {},
   "outputs": [
    {
     "data": {
      "text/plain": [
       "array([[0.55358537, 0.57428375],\n",
       "       [0.36738525, 0.63387398],\n",
       "       [0.35673726, 0.71534037],\n",
       "       [0.88140306, 0.18029071],\n",
       "       [0.39628591, 0.59690446],\n",
       "       [0.2146325 , 0.64509734]])"
      ]
     },
     "execution_count": 168,
     "metadata": {},
     "output_type": "execute_result"
    }
   ],
   "source": [
    "arr1"
   ]
  },
  {
   "cell_type": "code",
   "execution_count": 169,
   "id": "c789b201-52a4-4263-865c-fd088910e367",
   "metadata": {},
   "outputs": [
    {
     "data": {
      "text/plain": [
       "np.float64(0.6338739833592325)"
      ]
     },
     "execution_count": 169,
     "metadata": {},
     "output_type": "execute_result"
    }
   ],
   "source": [
    "arr1[1][1]\n",
    "# it is like indexing as in the list"
   ]
  },
  {
   "cell_type": "code",
   "execution_count": 170,
   "id": "071194b0-b65f-4bed-8317-e692032c3316",
   "metadata": {},
   "outputs": [
    {
     "data": {
      "text/plain": [
       "array([0.71534037, 0.18029071, 0.59690446])"
      ]
     },
     "execution_count": 170,
     "metadata": {},
     "output_type": "execute_result"
    }
   ],
   "source": [
    "arr1[2:5,1]"
   ]
  },
  {
   "cell_type": "code",
   "execution_count": 171,
   "id": "a56fc792-c12a-409f-85bb-b997ec848ee7",
   "metadata": {},
   "outputs": [],
   "source": [
    "arr = np.random.randint(1,100 , (5,5))"
   ]
  },
  {
   "cell_type": "code",
   "execution_count": 172,
   "id": "a0f7dd58-668d-48e4-9ba4-4986909abfc0",
   "metadata": {},
   "outputs": [
    {
     "data": {
      "text/plain": [
       "array([[ 1, 49,  8, 25, 83],\n",
       "       [60, 54, 67, 51, 31],\n",
       "       [47, 67, 97, 52, 82],\n",
       "       [32, 24, 70, 21, 16],\n",
       "       [81, 80, 62, 54,  7]], dtype=int32)"
      ]
     },
     "execution_count": 172,
     "metadata": {},
     "output_type": "execute_result"
    }
   ],
   "source": [
    "arr"
   ]
  },
  {
   "cell_type": "code",
   "execution_count": 173,
   "id": "7aad19ec-6d3f-480d-aa0c-df4ca1291733",
   "metadata": {},
   "outputs": [
    {
     "data": {
      "text/plain": [
       "array([83, 60, 54, 67, 51, 67, 97, 52, 82, 70, 81, 80, 62, 54],\n",
       "      dtype=int32)"
      ]
     },
     "execution_count": 173,
     "metadata": {},
     "output_type": "execute_result"
    }
   ],
   "source": [
    "arr[arr>50]"
   ]
  },
  {
   "cell_type": "code",
   "execution_count": 174,
   "id": "1b02ca52-b1b3-4fa8-bd93-3717816e7591",
   "metadata": {},
   "outputs": [
    {
     "data": {
      "text/plain": [
       "array([[ 1, 49,  8, 25, 83],\n",
       "       [60, 54, 67, 51, 31],\n",
       "       [47, 67, 97, 52, 82],\n",
       "       [32, 24, 70, 21, 16],\n",
       "       [81, 80, 62, 54,  7]], dtype=int32)"
      ]
     },
     "execution_count": 174,
     "metadata": {},
     "output_type": "execute_result"
    }
   ],
   "source": [
    "arr"
   ]
  },
  {
   "cell_type": "code",
   "execution_count": 175,
   "id": "041505cb-20f5-447c-b058-0d62f2f472e7",
   "metadata": {},
   "outputs": [
    {
     "data": {
      "text/plain": [
       "array([[67, 97],\n",
       "       [24, 70]], dtype=int32)"
      ]
     },
     "execution_count": 175,
     "metadata": {},
     "output_type": "execute_result"
    }
   ],
   "source": [
    "arr[2:4 , [1,2]]\n",
    "# here 2:4 is for the rows selection and [1,2] is for column selection."
   ]
  },
  {
   "cell_type": "code",
   "execution_count": 176,
   "id": "d3541d0c-c152-4cff-8a3f-a94a14be769a",
   "metadata": {},
   "outputs": [],
   "source": [
    "arr[0][0] = 5000"
   ]
  },
  {
   "cell_type": "code",
   "execution_count": 177,
   "id": "655696e2-9f75-4fbc-9dda-79c5a934a1a7",
   "metadata": {},
   "outputs": [
    {
     "data": {
      "text/plain": [
       "array([[5000,   49,    8,   25,   83],\n",
       "       [  60,   54,   67,   51,   31],\n",
       "       [  47,   67,   97,   52,   82],\n",
       "       [  32,   24,   70,   21,   16],\n",
       "       [  81,   80,   62,   54,    7]], dtype=int32)"
      ]
     },
     "execution_count": 177,
     "metadata": {},
     "output_type": "execute_result"
    }
   ],
   "source": [
    "arr"
   ]
  },
  {
   "cell_type": "code",
   "execution_count": 178,
   "id": "c9b54bc7-a24f-428a-963e-22d7f06de522",
   "metadata": {},
   "outputs": [],
   "source": [
    "arr1 = np.random.randint(1,3 , (3,3))\n",
    "arr2 = np.random.randint(1,3 , (3,3))"
   ]
  },
  {
   "cell_type": "code",
   "execution_count": 179,
   "id": "9abc3bd0-459c-4d26-be84-786959e4f220",
   "metadata": {},
   "outputs": [
    {
     "data": {
      "text/plain": [
       "array([[2, 1, 1],\n",
       "       [2, 2, 2],\n",
       "       [1, 1, 2]], dtype=int32)"
      ]
     },
     "execution_count": 179,
     "metadata": {},
     "output_type": "execute_result"
    }
   ],
   "source": [
    "arr1"
   ]
  },
  {
   "cell_type": "code",
   "execution_count": 180,
   "id": "42603651-479b-442e-8768-229cb3309e5c",
   "metadata": {},
   "outputs": [
    {
     "data": {
      "text/plain": [
       "array([[1, 2, 2],\n",
       "       [2, 2, 1],\n",
       "       [1, 2, 2]], dtype=int32)"
      ]
     },
     "execution_count": 180,
     "metadata": {},
     "output_type": "execute_result"
    }
   ],
   "source": [
    "arr2\n"
   ]
  },
  {
   "cell_type": "code",
   "execution_count": 181,
   "id": "b3fc7365-7c4d-42e8-bf94-9ba5b1983cb7",
   "metadata": {},
   "outputs": [
    {
     "data": {
      "text/plain": [
       "array([[3, 3, 3],\n",
       "       [4, 4, 3],\n",
       "       [2, 3, 4]], dtype=int32)"
      ]
     },
     "execution_count": 181,
     "metadata": {},
     "output_type": "execute_result"
    }
   ],
   "source": [
    "arr1+arr2"
   ]
  },
  {
   "cell_type": "code",
   "execution_count": 182,
   "id": "84f07dc1-0f29-46a9-bdd8-695d7060ebe9",
   "metadata": {},
   "outputs": [
    {
     "data": {
      "text/plain": [
       "array([[ 1, -1, -1],\n",
       "       [ 0,  0,  1],\n",
       "       [ 0, -1,  0]], dtype=int32)"
      ]
     },
     "execution_count": 182,
     "metadata": {},
     "output_type": "execute_result"
    }
   ],
   "source": [
    "arr1-arr2"
   ]
  },
  {
   "cell_type": "code",
   "execution_count": 183,
   "id": "49a34c34-2fcc-45c8-a1c9-6ebe6e993dca",
   "metadata": {},
   "outputs": [
    {
     "data": {
      "text/plain": [
       "array([[2. , 0.5, 0.5],\n",
       "       [1. , 1. , 2. ],\n",
       "       [1. , 0.5, 1. ]])"
      ]
     },
     "execution_count": 183,
     "metadata": {},
     "output_type": "execute_result"
    }
   ],
   "source": [
    "arr1/arr2"
   ]
  },
  {
   "cell_type": "code",
   "execution_count": 184,
   "id": "0ed674d1-a1f3-45f2-bd44-c4e9bb2fd458",
   "metadata": {},
   "outputs": [
    {
     "data": {
      "text/plain": [
       "array([[2, 2, 2],\n",
       "       [4, 4, 2],\n",
       "       [1, 2, 4]], dtype=int32)"
      ]
     },
     "execution_count": 184,
     "metadata": {},
     "output_type": "execute_result"
    }
   ],
   "source": [
    "arr1 * arr2"
   ]
  },
  {
   "cell_type": "code",
   "execution_count": 185,
   "id": "e1e9fa53-7a19-4941-9f42-70012fdaf9b5",
   "metadata": {},
   "outputs": [
    {
     "data": {
      "text/plain": [
       "array([[2, 1, 1],\n",
       "       [2, 2, 2],\n",
       "       [1, 1, 2]], dtype=int32)"
      ]
     },
     "execution_count": 185,
     "metadata": {},
     "output_type": "execute_result"
    }
   ],
   "source": [
    "arr1"
   ]
  },
  {
   "cell_type": "code",
   "execution_count": 186,
   "id": "80becb6c-b940-4ff3-bd8d-39d1209905bf",
   "metadata": {},
   "outputs": [
    {
     "data": {
      "text/plain": [
       "array([[1, 2, 2],\n",
       "       [2, 2, 1],\n",
       "       [1, 2, 2]], dtype=int32)"
      ]
     },
     "execution_count": 186,
     "metadata": {},
     "output_type": "execute_result"
    }
   ],
   "source": [
    "arr2"
   ]
  },
  {
   "cell_type": "code",
   "execution_count": 188,
   "id": "c6f5a6ab-db3a-4517-836f-86cc61f12c32",
   "metadata": {},
   "outputs": [
    {
     "data": {
      "text/plain": [
       "array([[ 5,  8,  7],\n",
       "       [ 8, 12, 10],\n",
       "       [ 5,  8,  7]], dtype=int32)"
      ]
     },
     "execution_count": 188,
     "metadata": {},
     "output_type": "execute_result"
    }
   ],
   "source": [
    "arr1@arr2\n",
    "# It will give the matrix multiplication"
   ]
  },
  {
   "cell_type": "code",
   "execution_count": null,
   "id": "f3350033-54dc-4ea0-9721-fd8a1ca65e3e",
   "metadata": {},
   "outputs": [],
   "source": []
  },
  {
   "cell_type": "code",
   "execution_count": 189,
   "id": "0187979b-c3aa-4993-9811-cba5a0997765",
   "metadata": {},
   "outputs": [
    {
     "name": "stderr",
     "output_type": "stream",
     "text": [
      "C:\\Users\\HP\\AppData\\Local\\Temp\\ipykernel_9800\\1510032488.py:1: RuntimeWarning: divide by zero encountered in divide\n",
      "  arr1/0\n"
     ]
    },
    {
     "data": {
      "text/plain": [
       "array([[inf, inf, inf],\n",
       "       [inf, inf, inf],\n",
       "       [inf, inf, inf]])"
      ]
     },
     "execution_count": 189,
     "metadata": {},
     "output_type": "execute_result"
    }
   ],
   "source": [
    "arr1/0"
   ]
  },
  {
   "cell_type": "code",
   "execution_count": 190,
   "id": "8a089e96-7b2d-4bcd-bcb3-e9476a91a8a3",
   "metadata": {},
   "outputs": [
    {
     "data": {
      "text/plain": [
       "array([[102, 101, 101],\n",
       "       [102, 102, 102],\n",
       "       [101, 101, 102]], dtype=int32)"
      ]
     },
     "execution_count": 190,
     "metadata": {},
     "output_type": "execute_result"
    }
   ],
   "source": [
    "arr1 +100"
   ]
  },
  {
   "cell_type": "code",
   "execution_count": 191,
   "id": "d8f20089-ae42-4a3b-be56-d040ad68ad6d",
   "metadata": {},
   "outputs": [
    {
     "data": {
      "text/plain": [
       "array([[4, 1, 1],\n",
       "       [4, 4, 4],\n",
       "       [1, 1, 4]], dtype=int32)"
      ]
     },
     "execution_count": 191,
     "metadata": {},
     "output_type": "execute_result"
    }
   ],
   "source": [
    "arr1**2"
   ]
  },
  {
   "cell_type": "code",
   "execution_count": 192,
   "id": "5b535a52-008f-4f43-9682-5607b9380262",
   "metadata": {},
   "outputs": [],
   "source": [
    "#Numpy – Broadcasting."
   ]
  },
  {
   "cell_type": "code",
   "execution_count": 193,
   "id": "578eed9d-f5fb-4484-8fd3-3496760bbf7e",
   "metadata": {},
   "outputs": [],
   "source": [
    "arr =np.zeros((4,4))"
   ]
  },
  {
   "cell_type": "code",
   "execution_count": 194,
   "id": "74344e7d-dee9-4bb0-a32e-be2d3a87275f",
   "metadata": {},
   "outputs": [
    {
     "data": {
      "text/plain": [
       "array([[0., 0., 0., 0.],\n",
       "       [0., 0., 0., 0.],\n",
       "       [0., 0., 0., 0.],\n",
       "       [0., 0., 0., 0.]])"
      ]
     },
     "execution_count": 194,
     "metadata": {},
     "output_type": "execute_result"
    }
   ],
   "source": [
    "arr"
   ]
  },
  {
   "cell_type": "code",
   "execution_count": 195,
   "id": "04141898-8d4c-4762-8db5-be03144c425b",
   "metadata": {},
   "outputs": [],
   "source": [
    "row = np.array([1,2,3,4])"
   ]
  },
  {
   "cell_type": "code",
   "execution_count": 196,
   "id": "79f7cd0d-f475-4b00-9b66-453961437308",
   "metadata": {},
   "outputs": [
    {
     "data": {
      "text/plain": [
       "(4,)"
      ]
     },
     "execution_count": 196,
     "metadata": {},
     "output_type": "execute_result"
    }
   ],
   "source": [
    "row.shape\n",
    "\n"
   ]
  },
  {
   "cell_type": "code",
   "execution_count": 197,
   "id": "d13ca14f-64e6-46b3-9561-9cbf0c1ec17b",
   "metadata": {},
   "outputs": [
    {
     "data": {
      "text/plain": [
       "array([[1., 2., 3., 4.],\n",
       "       [1., 2., 3., 4.],\n",
       "       [1., 2., 3., 4.],\n",
       "       [1., 2., 3., 4.]])"
      ]
     },
     "execution_count": 197,
     "metadata": {},
     "output_type": "execute_result"
    }
   ],
   "source": [
    "arr + row"
   ]
  },
  {
   "cell_type": "code",
   "execution_count": 198,
   "id": "0c4b72e2-64c8-4659-a65a-34544818e145",
   "metadata": {},
   "outputs": [
    {
     "data": {
      "text/plain": [
       "array([1, 2, 3, 4])"
      ]
     },
     "execution_count": 198,
     "metadata": {},
     "output_type": "execute_result"
    }
   ],
   "source": [
    "row.T"
   ]
  },
  {
   "cell_type": "code",
   "execution_count": 199,
   "id": "2426c44c-356f-469e-bffc-228861927a38",
   "metadata": {},
   "outputs": [],
   "source": [
    "col = np.array([[1,2,3,4]])"
   ]
  },
  {
   "cell_type": "code",
   "execution_count": 200,
   "id": "9a5521e6-8934-48f9-b1ac-c46a95785b6d",
   "metadata": {},
   "outputs": [
    {
     "data": {
      "text/plain": [
       "array([[1., 1., 1., 1.],\n",
       "       [2., 2., 2., 2.],\n",
       "       [3., 3., 3., 3.],\n",
       "       [4., 4., 4., 4.]])"
      ]
     },
     "execution_count": 200,
     "metadata": {},
     "output_type": "execute_result"
    }
   ],
   "source": [
    "col.T + arr"
   ]
  },
  {
   "cell_type": "code",
   "execution_count": 201,
   "id": "cda4baa8-72fc-4bb4-9294-eb48cb58c4ba",
   "metadata": {},
   "outputs": [
    {
     "data": {
      "text/plain": [
       "array([[1, 2, 3, 4]])"
      ]
     },
     "execution_count": 201,
     "metadata": {},
     "output_type": "execute_result"
    }
   ],
   "source": [
    "col"
   ]
  },
  {
   "cell_type": "code",
   "execution_count": 202,
   "id": "91b60593-5434-4928-a375-72f5eb65a639",
   "metadata": {},
   "outputs": [
    {
     "data": {
      "text/plain": [
       "array([[0., 0., 0., 0.],\n",
       "       [0., 0., 0., 0.],\n",
       "       [0., 0., 0., 0.],\n",
       "       [0., 0., 0., 0.]])"
      ]
     },
     "execution_count": 202,
     "metadata": {},
     "output_type": "execute_result"
    }
   ],
   "source": [
    "arr"
   ]
  },
  {
   "cell_type": "code",
   "execution_count": 203,
   "id": "e68aec4e-63a2-46fa-b9e8-912183489fc7",
   "metadata": {},
   "outputs": [],
   "source": [
    "arr1 = np.random.randint(1,4 , (3,4))"
   ]
  },
  {
   "cell_type": "code",
   "execution_count": 204,
   "id": "8d628304-70c6-4034-bc1c-c64130b9eae6",
   "metadata": {},
   "outputs": [
    {
     "data": {
      "text/plain": [
       "array([[3, 1, 2, 1],\n",
       "       [1, 2, 1, 1],\n",
       "       [1, 3, 3, 3]], dtype=int32)"
      ]
     },
     "execution_count": 204,
     "metadata": {},
     "output_type": "execute_result"
    }
   ],
   "source": [
    "arr1"
   ]
  },
  {
   "cell_type": "code",
   "execution_count": 205,
   "id": "0b3dc448-a57f-4e7d-8e8a-e6318a6330d3",
   "metadata": {},
   "outputs": [
    {
     "data": {
      "text/plain": [
       "array([[1.73205081, 1.        , 1.41421356, 1.        ],\n",
       "       [1.        , 1.41421356, 1.        , 1.        ],\n",
       "       [1.        , 1.73205081, 1.73205081, 1.73205081]])"
      ]
     },
     "execution_count": 205,
     "metadata": {},
     "output_type": "execute_result"
    }
   ],
   "source": [
    "np.sqrt(arr1)"
   ]
  },
  {
   "cell_type": "code",
   "execution_count": 206,
   "id": "67746c9a-49b1-4446-94e2-0f1c7de8a9fa",
   "metadata": {},
   "outputs": [
    {
     "data": {
      "text/plain": [
       "array([[20.08553692,  2.71828183,  7.3890561 ,  2.71828183],\n",
       "       [ 2.71828183,  7.3890561 ,  2.71828183,  2.71828183],\n",
       "       [ 2.71828183, 20.08553692, 20.08553692, 20.08553692]])"
      ]
     },
     "execution_count": 206,
     "metadata": {},
     "output_type": "execute_result"
    }
   ],
   "source": [
    "\n",
    "\n",
    "\n",
    "np.exp(arr1)"
   ]
  },
  {
   "cell_type": "code",
   "execution_count": 207,
   "id": "e7023b99-dd77-45ba-b34b-39a0676d7086",
   "metadata": {},
   "outputs": [
    {
     "data": {
      "text/plain": [
       "array([[0.47712125, 0.        , 0.30103   , 0.        ],\n",
       "       [0.        , 0.30103   , 0.        , 0.        ],\n",
       "       [0.        , 0.47712125, 0.47712125, 0.47712125]])"
      ]
     },
     "execution_count": 207,
     "metadata": {},
     "output_type": "execute_result"
    }
   ],
   "source": [
    "np.log10(arr1)"
   ]
  },
  {
   "cell_type": "code",
   "execution_count": null,
   "id": "0be11bba-e2f5-470a-b262-91a2055d0096",
   "metadata": {},
   "outputs": [],
   "source": []
  },
  {
   "cell_type": "code",
   "execution_count": null,
   "id": "5fe5110c-a814-4c32-bcda-cf128d21b6a8",
   "metadata": {},
   "outputs": [],
   "source": []
  },
  {
   "cell_type": "code",
   "execution_count": null,
   "id": "77b90b8e-13ba-414f-8387-67c7e4151049",
   "metadata": {},
   "outputs": [],
   "source": []
  },
  {
   "cell_type": "code",
   "execution_count": null,
   "id": "ecdefdb6-cb9b-489a-95f3-19786a06365c",
   "metadata": {},
   "outputs": [],
   "source": []
  },
  {
   "cell_type": "code",
   "execution_count": null,
   "id": "5e9776ee-642d-4a71-96d9-8940864ccd7f",
   "metadata": {},
   "outputs": [],
   "source": []
  }
 ],
 "metadata": {
  "kernelspec": {
   "display_name": "Python 3 (ipykernel)",
   "language": "python",
   "name": "python3"
  },
  "language_info": {
   "codemirror_mode": {
    "name": "ipython",
    "version": 3
   },
   "file_extension": ".py",
   "mimetype": "text/x-python",
   "name": "python",
   "nbconvert_exporter": "python",
   "pygments_lexer": "ipython3",
   "version": "3.13.0"
  }
 },
 "nbformat": 4,
 "nbformat_minor": 5
}
