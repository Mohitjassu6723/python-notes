{
  "metadata": {
    "kernelspec": {
      "name": "python",
      "display_name": "Python (Pyodide)",
      "language": "python"
    },
    "language_info": {
      "codemirror_mode": {
        "name": "python",
        "version": 3
      },
      "file_extension": ".py",
      "mimetype": "text/x-python",
      "name": "python",
      "nbconvert_exporter": "python",
      "pygments_lexer": "ipython3",
      "version": "3.8"
    }
  },
  "nbformat_minor": 4,
  "nbformat": 4,
  "cells": [
    {
      "cell_type": "code",
      "source": "# inheritance:- it is the transfer of chacteristics from the parents to its offsprings.\n# In the programming it is used to transfer the variables and functions of a class to the another class to reduce the length, complexity and the modules of a code.\n# it is of two types:-\n# 1) Multilabel inheritance:- let there be three classes; a,b,c. \"b\" is showing the property of \"a\" and \"c\" is showing the property of \"a\" and \"b\". this is multilabelled inhritance.\n#2) Multiple inheritance:- \"b\" is showing the property of \"a\" and \"c\" is showing the property of both \"a\" and \"b\" simultaneously, it is the multipe inhreritance",
      "metadata": {
        "trusted": true
      },
      "outputs": [],
      "execution_count": 1
    },
    {
      "cell_type": "code",
      "source": "",
      "metadata": {
        "trusted": true
      },
      "outputs": [],
      "execution_count": null
    }
  ]
}