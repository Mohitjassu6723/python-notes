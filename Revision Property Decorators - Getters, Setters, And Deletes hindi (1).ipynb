{
  "metadata": {
    "kernelspec": {
      "name": "python",
      "display_name": "Python (Pyodide)",
      "language": "python"
    },
    "language_info": {
      "codemirror_mode": {
        "name": "python",
        "version": 3
      },
      "file_extension": ".py",
      "mimetype": "text/x-python",
      "name": "python",
      "nbconvert_exporter": "python",
      "pygments_lexer": "ipython3",
      "version": "3.8"
    }
  },
  "nbformat_minor": 5,
  "nbformat": 4,
  "cells": [
    {
      "id": "958d6ab1-dd95-4806-8ad9-424d400abd13",
      "cell_type": "code",
      "source": "# property decorater includes the getter, setter and deleter.\n# it helps the external user to expose, update or modify and delete the private(variable with double underscore in starting) or protected(variable with single underscore in starting) data",
      "metadata": {
        "trusted": true
      },
      "outputs": [],
      "execution_count": 37
    },
    {
      "id": "caf07383-c83e-42ff-a628-42bce6a1e2b3",
      "cell_type": "code",
      "source": "class pwskills :\n    \n    def __init__(self , course_price , coruse_name):\n        \n        self.__course_price = course_price  # as here we use double underscore, so it is encapsulated. so, we cant access it easily\n        self.course_name = coruse_name\n        \n    ",
      "metadata": {
        "trusted": true
      },
      "outputs": [],
      "execution_count": 1
    },
    {
      "id": "6d42cbed-230e-4fb2-9099-87d74748644f",
      "cell_type": "code",
      "source": "pw = pwskills(3500 , \"data science masters\")",
      "metadata": {
        "trusted": true
      },
      "outputs": [],
      "execution_count": 2
    },
    {
      "id": "6b666ab6-9e87-40a8-bd29-3cf49033ee84",
      "cell_type": "code",
      "source": "pw.course_price_access",
      "metadata": {
        "trusted": true
      },
      "outputs": [
        {
          "ename": "<class 'AttributeError'>",
          "evalue": "'pwskills' object has no attribute 'course_price_access'",
          "traceback": [
            "\u001b[0;31m---------------------------------------------------------------------------\u001b[0m",
            "\u001b[0;31mAttributeError\u001b[0m                            Traceback (most recent call last)",
            "Cell \u001b[0;32mIn[3], line 1\u001b[0m\n\u001b[0;32m----> 1\u001b[0m \u001b[43mpw\u001b[49m\u001b[38;5;241;43m.\u001b[39;49m\u001b[43mcourse_price_access\u001b[49m\n",
            "\u001b[0;31mAttributeError\u001b[0m: 'pwskills' object has no attribute 'course_price_access'"
          ],
          "output_type": "error"
        }
      ],
      "execution_count": 3
    },
    {
      "id": "5dd477be-4deb-4f90-9ec0-8ad3fcb6ada3",
      "cell_type": "code",
      "source": "pw._pwskills__course_price",
      "metadata": {
        "trusted": true
      },
      "outputs": [
        {
          "execution_count": 4,
          "output_type": "execute_result",
          "data": {
            "text/plain": "3500"
          },
          "metadata": {}
        }
      ],
      "execution_count": 4
    },
    {
      "id": "79620f49-6a49-428b-9203-1641c2031587",
      "cell_type": "code",
      "source": "pw.course_name",
      "metadata": {
        "trusted": true
      },
      "outputs": [
        {
          "execution_count": 5,
          "output_type": "execute_result",
          "data": {
            "text/plain": "'data science masters'"
          },
          "metadata": {}
        }
      ],
      "execution_count": 5
    },
    {
      "id": "8825c5ec-0b62-4836-b467-04bb41f3c88b",
      "cell_type": "code",
      "source": "class pwskills :\n    \n    def __init__(self , course_price , coruse_name):\n        \n        self.__course_price = course_price\n        self.course_name = coruse_name\n        \n    @property               # Here we used the decorator \"property\" to access or update or modify the encapsulated or hidden or private data. \n    def course_price_access(self) : \n        return self.__course_price  #now it will be  exposed to the external user. it will also access it indirectly.\n    \n    \n    ",
      "metadata": {
        "trusted": true
      },
      "outputs": [],
      "execution_count": 8
    },
    {
      "id": "7180c0cd-ef50-4026-b288-07a8777aee78",
      "cell_type": "code",
      "source": "pw = pwskills(3500 , \"data science masters\")",
      "metadata": {
        "trusted": true
      },
      "outputs": [],
      "execution_count": 9
    },
    {
      "id": "52aabeb9-74d6-41e1-a725-89f283a80565",
      "cell_type": "code",
      "source": "pw.course_price_access",
      "metadata": {
        "trusted": true
      },
      "outputs": [
        {
          "execution_count": 10,
          "output_type": "execute_result",
          "data": {
            "text/plain": "3500"
          },
          "metadata": {}
        }
      ],
      "execution_count": 10
    },
    {
      "id": "d51be422-13bf-4f77-843e-a8355557c954",
      "cell_type": "code",
      "source": "",
      "metadata": {
        "trusted": true
      },
      "outputs": [],
      "execution_count": null
    },
    {
      "id": "4a7a45bb-c230-4637-93b1-d9d39bf1a3f6",
      "cell_type": "code",
      "source": "del pw.delete_course_price",
      "metadata": {},
      "outputs": [],
      "execution_count": 71
    },
    {
      "id": "42593724-c266-4ef9-b51c-d8ebeab75014",
      "cell_type": "code",
      "source": "pw.course_price_access",
      "metadata": {},
      "outputs": [
        {
          "ename": "AttributeError",
          "evalue": "'pwskills' object has no attribute '_pwskills__course_price'",
          "output_type": "error",
          "traceback": [
            "\u001b[0;31m---------------------------------------------------------------------------\u001b[0m",
            "\u001b[0;31mAttributeError\u001b[0m                            Traceback (most recent call last)",
            "Cell \u001b[0;32mIn[72], line 1\u001b[0m\n\u001b[0;32m----> 1\u001b[0m \u001b[43mpw\u001b[49m\u001b[38;5;241;43m.\u001b[39;49m\u001b[43mcourse_price_access\u001b[49m\n",
            "Cell \u001b[0;32mIn[68], line 10\u001b[0m, in \u001b[0;36mpwskills.course_price_access\u001b[0;34m(self)\u001b[0m\n\u001b[1;32m      8\u001b[0m \u001b[38;5;129m@property\u001b[39m\n\u001b[1;32m      9\u001b[0m \u001b[38;5;28;01mdef\u001b[39;00m \u001b[38;5;21mcourse_price_access\u001b[39m(\u001b[38;5;28mself\u001b[39m) : \n\u001b[0;32m---> 10\u001b[0m     \u001b[38;5;28;01mreturn\u001b[39;00m \u001b[38;5;28;43mself\u001b[39;49m\u001b[38;5;241;43m.\u001b[39;49m\u001b[43m__course_price\u001b[49m\n",
            "\u001b[0;31mAttributeError\u001b[0m: 'pwskills' object has no attribute '_pwskills__course_price'"
          ]
        }
      ],
      "execution_count": 72
    },
    {
      "id": "724ce64a-1a85-41c4-b066-38a8949cf2cf",
      "cell_type": "code",
      "source": "pw.course_price_access",
      "metadata": {},
      "outputs": [
        {
          "data": {
            "text/plain": [
              "3500"
            ]
          },
          "execution_count": 65,
          "metadata": {},
          "output_type": "execute_result"
        }
      ],
      "execution_count": 65
    },
    {
      "id": "2f00afe1-dd6b-417a-b18e-77ad3b3ace31",
      "cell_type": "code",
      "source": "pw.course_price_set = 4500",
      "metadata": {},
      "outputs": [],
      "execution_count": 66
    },
    {
      "id": "b2dc2aa3-8656-4958-afcb-11f37a031ed2",
      "cell_type": "code",
      "source": "pw.course_price_access",
      "metadata": {},
      "outputs": [
        {
          "data": {
            "text/plain": [
              "4500"
            ]
          },
          "execution_count": 67,
          "metadata": {},
          "output_type": "execute_result"
        }
      ],
      "execution_count": 67
    },
    {
      "id": "f14aea99-3e31-4858-9b27-3be8d073e6f2",
      "cell_type": "code",
      "source": "pw.co",
      "metadata": {},
      "outputs": [],
      "execution_count": null
    },
    {
      "id": "1e62ae53-dca2-4a05-9ed0-6d98006178ea",
      "cell_type": "code",
      "source": "pw._pwskills__course_price",
      "metadata": {},
      "outputs": [
        {
          "data": {
            "text/plain": [
              "3500"
            ]
          },
          "execution_count": 56,
          "metadata": {},
          "output_type": "execute_result"
        }
      ],
      "execution_count": 56
    },
    {
      "id": "aea2fb1e-b47a-401d-a6a8-52ee8d8cae94",
      "cell_type": "code",
      "source": "pw.course_name",
      "metadata": {},
      "outputs": [
        {
          "data": {
            "text/plain": [
              "'data science masters'"
            ]
          },
          "execution_count": 57,
          "metadata": {},
          "output_type": "execute_result"
        }
      ],
      "execution_count": 57
    },
    {
      "id": "ea16eb1c-9ed0-4002-9797-6bd30239e360",
      "cell_type": "code",
      "source": "class pwskills :\n    \n    def __init__(self , course_price , coruse_name):\n        \n        self.__course_price = course_price\n        self.course_name = coruse_name\n        \n    @property\n    def course_price_access(self) : \n        return self.__course_price\n    \n    @course_price_access.setter     # setter :- It is used to modify data\n    def course_price_set(self , price ):\n        if price <= 3500:\n            pass\n        else :\n            self.__course_price = price\n\n# now, we  will be able to update pr modify the data.",
      "metadata": {
        "trusted": true
      },
      "outputs": [],
      "execution_count": 12
    },
    {
      "id": "5cc5ae58-9e21-4905-a712-cb7aa703e75b",
      "cell_type": "code",
      "source": "pw = pwskills(3500 , \"data science masters\")",
      "metadata": {
        "trusted": true
      },
      "outputs": [],
      "execution_count": 13
    },
    {
      "id": "8de52c60-e6d6-4c1b-8944-37ad7d4afe2f",
      "cell_type": "code",
      "source": "pw.course_price_access",
      "metadata": {
        "trusted": true
      },
      "outputs": [
        {
          "execution_count": 14,
          "output_type": "execute_result",
          "data": {
            "text/plain": "3500"
          },
          "metadata": {}
        }
      ],
      "execution_count": 14
    },
    {
      "id": "32619d6e-f2a4-47ba-8cf0-de89ae5cd5f6",
      "cell_type": "code",
      "source": "pw.course_price_set = 4500 \n# Now , we provide the access to the external user to set or update the data.",
      "metadata": {
        "trusted": true
      },
      "outputs": [],
      "execution_count": 15
    },
    {
      "id": "196886d7-e336-47c2-8abd-3cd4b19521ae",
      "cell_type": "code",
      "source": "pw.course_price_access\n# the data is modified.",
      "metadata": {
        "trusted": true
      },
      "outputs": [
        {
          "execution_count": 17,
          "output_type": "execute_result",
          "data": {
            "text/plain": "4500"
          },
          "metadata": {}
        }
      ],
      "execution_count": 17
    },
    {
      "id": "4dbce18c-ca0a-472d-85fa-c56bc91993bc",
      "cell_type": "code",
      "source": "class pwskills :\n    \n    def __init__(self , course_price , coruse_name):\n        \n        self.__course_price = course_price\n        self.course_name = coruse_name\n        \n    @property\n    def course_price_access(self) : \n        return self.__course_price\n    \n    @course_price_access.setter\n    def course_price_set(self , price ):\n        if price <= 3500:\n            pass\n        else :\n            self.__course_price = price\n            \n    @course_price_access.deleter     # deleter is used to delete. \n    def delete_course_price(self) :     #it will help the external user to delete. because internal or the creater user knows about the data but external  user don't.\n        del self.__course_price\n    # now we will be able to delete \n    ",
      "metadata": {
        "trusted": true
      },
      "outputs": [],
      "execution_count": 32
    },
    {
      "id": "44da7756-b7fc-4a60-9ae4-c1e93eca52e8",
      "cell_type": "code",
      "source": "pw = pwskills(3500 , \"data science masters\")",
      "metadata": {
        "trusted": true
      },
      "outputs": [],
      "execution_count": 33
    },
    {
      "id": "97b6e8be-a94b-484f-bd19-94e8a344892e",
      "cell_type": "code",
      "source": "pw.course_price_access",
      "metadata": {
        "trusted": true
      },
      "outputs": [
        {
          "execution_count": 34,
          "output_type": "execute_result",
          "data": {
            "text/plain": "3500"
          },
          "metadata": {}
        }
      ],
      "execution_count": 34
    },
    {
      "id": "7315ba9e-5a87-49c0-81e6-7609e5ef9ab5",
      "cell_type": "code",
      "source": "pw.delete_course_price\n# still not deleted",
      "metadata": {
        "trusted": true
      },
      "outputs": [
        {
          "execution_count": 35,
          "output_type": "execute_result",
          "data": {
            "text/plain": "3500"
          },
          "metadata": {}
        }
      ],
      "execution_count": 35
    },
    {
      "id": "3273e537-b0f9-4d3d-a055-cd355a882583",
      "cell_type": "code",
      "source": "del pw.delete_course_price\n# now it will be deleted",
      "metadata": {
        "trusted": true
      },
      "outputs": [],
      "execution_count": 36
    },
    {
      "id": "a0019d90-e007-42c1-9bf6-550935b51109",
      "cell_type": "code",
      "source": "pw.course_price_price",
      "metadata": {
        "trusted": true
      },
      "outputs": [
        {
          "ename": "<class 'AttributeError'>",
          "evalue": "'pwskills' object has no attribute 'course_price_price'",
          "traceback": [
            "\u001b[0;31m---------------------------------------------------------------------------\u001b[0m",
            "\u001b[0;31mAttributeError\u001b[0m                            Traceback (most recent call last)",
            "Cell \u001b[0;32mIn[31], line 1\u001b[0m\n\u001b[0;32m----> 1\u001b[0m \u001b[43mpw\u001b[49m\u001b[38;5;241;43m.\u001b[39;49m\u001b[43mcourse_price_price\u001b[49m\n",
            "\u001b[0;31mAttributeError\u001b[0m: 'pwskills' object has no attribute 'course_price_price'"
          ],
          "output_type": "error"
        }
      ],
      "execution_count": 31
    },
    {
      "id": "d7959302-608f-4fba-890e-80ddef4d6a2b",
      "cell_type": "code",
      "source": "",
      "metadata": {
        "trusted": true
      },
      "outputs": [],
      "execution_count": null
    }
  ]
}