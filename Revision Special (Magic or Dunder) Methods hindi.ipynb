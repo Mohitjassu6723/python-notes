{
  "metadata": {
    "kernelspec": {
      "name": "python",
      "display_name": "Python (Pyodide)",
      "language": "python"
    },
    "language_info": {
      "codemirror_mode": {
        "name": "python",
        "version": 3
      },
      "file_extension": ".py",
      "mimetype": "text/x-python",
      "name": "python",
      "nbconvert_exporter": "python",
      "pygments_lexer": "ipython3",
      "version": "3.8"
    }
  },
  "nbformat_minor": 5,
  "nbformat": 4,
  "cells": [
    {
      "id": "6f977147-1cdf-4179-9c1b-9bae8dfed050",
      "cell_type": "code",
      "source": "magic or dunder method/function means double underscore before and after of any function. Example; __init__ , __add__   etc.",
      "metadata": {
        "trusted": true
      },
      "outputs": [],
      "execution_count": null
    },
    {
      "id": "1e55299d-0152-4048-84e5-7a93578a4279",
      "cell_type": "code",
      "source": "dir(int)\n# dir stands for directory",
      "metadata": {
        "trusted": true
      },
      "outputs": [
        {
          "execution_count": 1,
          "output_type": "execute_result",
          "data": {
            "text/plain": "['__abs__',\n '__add__',\n '__and__',\n '__bool__',\n '__ceil__',\n '__class__',\n '__delattr__',\n '__dir__',\n '__divmod__',\n '__doc__',\n '__eq__',\n '__float__',\n '__floor__',\n '__floordiv__',\n '__format__',\n '__ge__',\n '__getattribute__',\n '__getnewargs__',\n '__getstate__',\n '__gt__',\n '__hash__',\n '__index__',\n '__init__',\n '__init_subclass__',\n '__int__',\n '__invert__',\n '__le__',\n '__lshift__',\n '__lt__',\n '__mod__',\n '__mul__',\n '__ne__',\n '__neg__',\n '__new__',\n '__or__',\n '__pos__',\n '__pow__',\n '__radd__',\n '__rand__',\n '__rdivmod__',\n '__reduce__',\n '__reduce_ex__',\n '__repr__',\n '__rfloordiv__',\n '__rlshift__',\n '__rmod__',\n '__rmul__',\n '__ror__',\n '__round__',\n '__rpow__',\n '__rrshift__',\n '__rshift__',\n '__rsub__',\n '__rtruediv__',\n '__rxor__',\n '__setattr__',\n '__sizeof__',\n '__str__',\n '__sub__',\n '__subclasshook__',\n '__truediv__',\n '__trunc__',\n '__xor__',\n 'as_integer_ratio',\n 'bit_count',\n 'bit_length',\n 'conjugate',\n 'denominator',\n 'from_bytes',\n 'imag',\n 'is_integer',\n 'numerator',\n 'real',\n 'to_bytes']"
          },
          "metadata": {}
        }
      ],
      "execution_count": 1
    },
    {
      "id": "789e9405-5860-48ad-96c6-e5a71aee3290",
      "cell_type": "code",
      "source": "dir(str)",
      "metadata": {
        "trusted": true
      },
      "outputs": [
        {
          "execution_count": 2,
          "output_type": "execute_result",
          "data": {
            "text/plain": "['__add__',\n '__class__',\n '__contains__',\n '__delattr__',\n '__dir__',\n '__doc__',\n '__eq__',\n '__format__',\n '__ge__',\n '__getattribute__',\n '__getitem__',\n '__getnewargs__',\n '__getstate__',\n '__gt__',\n '__hash__',\n '__init__',\n '__init_subclass__',\n '__iter__',\n '__le__',\n '__len__',\n '__lt__',\n '__mod__',\n '__mul__',\n '__ne__',\n '__new__',\n '__reduce__',\n '__reduce_ex__',\n '__repr__',\n '__rmod__',\n '__rmul__',\n '__setattr__',\n '__sizeof__',\n '__str__',\n '__subclasshook__',\n 'capitalize',\n 'casefold',\n 'center',\n 'count',\n 'encode',\n 'endswith',\n 'expandtabs',\n 'find',\n 'format',\n 'format_map',\n 'index',\n 'isalnum',\n 'isalpha',\n 'isascii',\n 'isdecimal',\n 'isdigit',\n 'isidentifier',\n 'islower',\n 'isnumeric',\n 'isprintable',\n 'isspace',\n 'istitle',\n 'isupper',\n 'join',\n 'ljust',\n 'lower',\n 'lstrip',\n 'maketrans',\n 'partition',\n 'removeprefix',\n 'removesuffix',\n 'replace',\n 'rfind',\n 'rindex',\n 'rjust',\n 'rpartition',\n 'rsplit',\n 'rstrip',\n 'split',\n 'splitlines',\n 'startswith',\n 'strip',\n 'swapcase',\n 'title',\n 'translate',\n 'upper',\n 'zfill']"
          },
          "metadata": {}
        }
      ],
      "execution_count": 2
    },
    {
      "id": "5f60d691-c280-4496-a922-858b6813c446",
      "cell_type": "code",
      "source": "a = 100",
      "metadata": {
        "trusted": true
      },
      "outputs": [],
      "execution_count": 3
    },
    {
      "id": "a29fa4ba-d70b-4588-9bb9-d6f210c06023",
      "cell_type": "code",
      "source": "a+ 5",
      "metadata": {
        "trusted": true
      },
      "outputs": [
        {
          "execution_count": 4,
          "output_type": "execute_result",
          "data": {
            "text/plain": "105"
          },
          "metadata": {}
        }
      ],
      "execution_count": 4
    },
    {
      "id": "ca644ee3-17dc-4542-b2f2-d67a5d811c14",
      "cell_type": "code",
      "source": "a.__add__(5)\n# __add__ is a dunder or magic function.",
      "metadata": {
        "trusted": true
      },
      "outputs": [
        {
          "execution_count": 5,
          "output_type": "execute_result",
          "data": {
            "text/plain": "105"
          },
          "metadata": {}
        }
      ],
      "execution_count": 5
    },
    {
      "id": "73a7ef41-ebe6-4d17-adb6-c19bfc9b62c2",
      "cell_type": "code",
      "source": "class pwskills :\n    \n    def __init__(self):\n        self.mobile_number = 7206873623",
      "metadata": {
        "trusted": true
      },
      "outputs": [],
      "execution_count": 6
    },
    {
      "id": "7431be45-c5bd-422b-a89e-ff1fdc8ac3fb",
      "cell_type": "code",
      "source": "pw = pwskills()",
      "metadata": {
        "trusted": true
      },
      "outputs": [],
      "execution_count": 7
    },
    {
      "id": "03e80566-b0f4-4a4c-ae66-f394bf60537f",
      "cell_type": "code",
      "source": "pw.mobile_number",
      "metadata": {
        "trusted": true
      },
      "outputs": [
        {
          "execution_count": 8,
          "output_type": "execute_result",
          "data": {
            "text/plain": "7206873623"
          },
          "metadata": {}
        }
      ],
      "execution_count": 8
    },
    {
      "id": "f37878dd-803c-49ad-b60f-4386897e10db",
      "cell_type": "code",
      "source": "class pwskills :\n    \n    \n    def __init__(self):\n        print(\"this is my init\")\n        \n        self.mobile_number = 7206873623",
      "metadata": {
        "trusted": true
      },
      "outputs": [],
      "execution_count": 11
    },
    {
      "id": "7fe86c91-a5dd-4db5-8694-ceceb855fabf",
      "cell_type": "code",
      "source": "pw = pwskills()\n# when we are assigning a variable, something is recalled",
      "metadata": {
        "trusted": true
      },
      "outputs": [
        {
          "name": "stdout",
          "text": "this is my init\n",
          "output_type": "stream"
        }
      ],
      "execution_count": 12
    },
    {
      "id": "86af2597-67aa-43dc-a8e2-8b4581cbed53",
      "cell_type": "code",
      "source": "class pwskills :\n    \n    def __new__(cls) : \n        print(\"this is my new\")\n        \n    \n    def __init__(self):\n        print(\"this is my init\")\n        \n        self.mobile_number = 7206873623",
      "metadata": {
        "trusted": true
      },
      "outputs": [],
      "execution_count": 13
    },
    {
      "id": "54933af1-2f22-479b-b9ed-7f49eb9bfde6",
      "cell_type": "code",
      "source": "pw = pwskills()\n# it is fact that _new_ is recalled always before to __init__ . This is why it is giving this output not the \"this is my init\" as output\n# so, __new__ helps in making the object not the __init__",
      "metadata": {
        "trusted": true
      },
      "outputs": [
        {
          "name": "stdout",
          "text": "this is my new\n",
          "output_type": "stream"
        }
      ],
      "execution_count": 15
    },
    {
      "id": "8567b9d7-ee81-4393-9d6e-a75d3a033539",
      "cell_type": "code",
      "source": "",
      "metadata": {
        "trusted": true
      },
      "outputs": [],
      "execution_count": null
    },
    {
      "id": "3b07f500-357f-4fe3-9744-f80322dc6952",
      "cell_type": "code",
      "source": "class pwskills1 :\n\n  \n    def __init__(self):\n        \n        \n        self.mobile_number = 92234242\n        ",
      "metadata": {
        "trusted": true
      },
      "outputs": [],
      "execution_count": 16
    },
    {
      "id": "c6b4e711-c288-4207-a4fb-98ce6faf0157",
      "cell_type": "code",
      "source": "pw1 = pwskills1()",
      "metadata": {
        "trusted": true
      },
      "outputs": [],
      "execution_count": 17
    },
    {
      "id": "ce2f3c47-a5cf-4574-b683-15408207c3c8",
      "cell_type": "code",
      "source": "pw1",
      "metadata": {
        "trusted": true
      },
      "outputs": [
        {
          "execution_count": 18,
          "output_type": "execute_result",
          "data": {
            "text/plain": "<__main__.pwskills1 at 0x251af00>"
          },
          "metadata": {}
        }
      ],
      "execution_count": 18
    },
    {
      "id": "bd631b15-9c37-4af9-91fb-e7ff690ec629",
      "cell_type": "code",
      "source": "print(pw1)\n# to avoid this decimal code we will use __str__ as magic function in the above code",
      "metadata": {
        "trusted": true
      },
      "outputs": [
        {
          "name": "stdout",
          "text": "<__main__.pwskills1 object at 0x251af00>\n",
          "output_type": "stream"
        }
      ],
      "execution_count": 20
    },
    {
      "id": "bcde01b6-d289-4a81-b5f0-ee111b844ba2",
      "cell_type": "code",
      "source": "# to avoid this decimal code we will use __str__ as magic function in the above code",
      "metadata": {
        "trusted": true
      },
      "outputs": [],
      "execution_count": 21
    },
    {
      "id": "42db84b3-6977-40c0-b14f-4c97cc46041b",
      "cell_type": "code",
      "source": "class pwskills1 :\n\n  \n    def __init__(self):\n        \n        \n        self.mobile_number = 92234242\n        \n    def __str__(self) : \n        return \"this is my magic call of str\"",
      "metadata": {
        "trusted": true
      },
      "outputs": [],
      "execution_count": 22
    },
    {
      "id": "6a6ccced-7d5f-4fe6-98a5-cb4a1f6943e5",
      "cell_type": "code",
      "source": "pw1 = pwskills1()",
      "metadata": {
        "trusted": true
      },
      "outputs": [],
      "execution_count": 23
    },
    {
      "id": "5e816949-b815-4515-858c-45e2d846d2c6",
      "cell_type": "code",
      "source": "pw1",
      "metadata": {
        "trusted": true
      },
      "outputs": [
        {
          "execution_count": 24,
          "output_type": "execute_result",
          "data": {
            "text/plain": "<__main__.pwskills1 at 0x244cd18>"
          },
          "metadata": {}
        }
      ],
      "execution_count": 24
    },
    {
      "id": "279df60a-9e58-4b06-85cc-7705cb3d9867",
      "cell_type": "code",
      "source": "print(pw1)",
      "metadata": {
        "trusted": true
      },
      "outputs": [
        {
          "name": "stdout",
          "text": "this is my magic call of str\n",
          "output_type": "stream"
        }
      ],
      "execution_count": 25
    },
    {
      "id": "38b3afd6-6165-486d-9363-dc2bd82583ce",
      "cell_type": "code",
      "source": "",
      "metadata": {
        "trusted": true
      },
      "outputs": [],
      "execution_count": null
    }
  ]
}