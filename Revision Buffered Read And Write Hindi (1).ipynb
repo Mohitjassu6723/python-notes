{
  "metadata": {
    "kernelspec": {
      "name": "python",
      "display_name": "Python (Pyodide)",
      "language": "python"
    },
    "language_info": {
      "codemirror_mode": {
        "name": "python",
        "version": 3
      },
      "file_extension": ".py",
      "mimetype": "text/x-python",
      "name": "python",
      "nbconvert_exporter": "python",
      "pygments_lexer": "ipython3",
      "version": "3.8"
    }
  },
  "nbformat_minor": 5,
  "nbformat": 4,
  "cells": [
    {
      "id": "8a700197-7d9c-49e3-a1de-f5ded7b3e153",
      "cell_type": "code",
      "source": "import io",
      "metadata": {},
      "outputs": [],
      "execution_count": 13
    },
    {
      "id": "c0fe6f7d-ad61-4a3d-889d-241bd97d88ec",
      "cell_type": "code",
      "source": "# Here \"io \" is a module or library or package which standas for the input output.\n# It contains the buffer().\n# This buffer is used to breaks the large data is into small  data or small chunks.",
      "metadata": {
        "trusted": true
      },
      "outputs": [],
      "execution_count": 1
    },
    {
      "id": "beee261f-e132-4b3b-bd4e-d80acfe27a49",
      "cell_type": "code",
      "source": "with open(\"test1.txt\" ,\"wb\") as f :\n    file = io.BufferedWriter(f)\n    \n    file.write(b\"Data Science Masters course is highly curated and uniquely designed according to the latest industry standards. This program instills students the skills essential to knowledge discovery efforts to identify standard, novel, and truly differentiated solutions and decision-making, including skills in managing, querying, analyzing, visualizing, and extracting meaning from extremely large data sets. This trending program provides students with the statistical, mathematical and computational skills needed to meet the large-scale data science challenges of today's professional world. You will learn all the stack required to work in data science industry including cloud infrastructure and real-time industry projects. This course will be taught in Hindi language.\\n\")\n    file.write(b\"this is my second  line\\n\")\n    file.flush()\n      ",
      "metadata": {},
      "outputs": [],
      "execution_count": 17
    },
    {
      "id": "df0b7505-6792-489a-a477-0e4a4f5ef07c",
      "cell_type": "code",
      "source": "# with open(\"test1.txt\" ,\"wb\") as f :  # \"wb\" means write binary.\n#     file = io.BufferedWriter(f)\n    \n#     file.write(b\"Data Science Masters course is highly curated and uniquely designed according to the latest industry standards. This program instills students the skills essential to knowledge discovery efforts to identify standard, novel, and truly differentiated solutions and decision-making, including skills in managing, querying, analyzing, visualizing, and extracting meaning from extremely large data sets. This trending program provides students with the statistical, mathematical and computational skills needed to meet the large-scale data science challenges of today's professional world. You will learn all the stack required to work in data science industry including cloud infrastructure and real-time industry projects. This course will be taught in Hindi language.\\n\")\n#     file.write(b\"this is my second  line\\n\")   # \"b\" means the byte mode.  \"   \\n\"   \"  to execute both the above and this console or statement sepaerately.\n#     file.flush()\n    #    \\n  :-  it means the new line character.if i don't  write this than both the lines will merge together.\n#   flush() :- It works similar to the close function.i.e. without it this code will not execute completely. means nothing will be writen in the file",
      "metadata": {
        "trusted": true
      },
      "outputs": [],
      "execution_count": 2
    },
    {
      "id": "e51e9962-e506-4906-b269-be151bb57ba7",
      "cell_type": "code",
      "source": "with open(\"test1.txt\" , \"rb\") as f :\n    \n    file = io.BufferedReader(f)\n    data = file.read(1000)\n    print(data)\n    \n    ",
      "metadata": {},
      "outputs": [
        {
          "name": "stdout",
          "output_type": "stream",
          "text": [
            "b\"Data Science Masters course is highly curated and uniquely designed according to the latest industry standards. This program instills students the skills essential to knowledge discovery efforts to identify standard, novel, and truly differentiated solutions and decision-making, including skills in managing, querying, analyzing, visualizing, and extracting meaning from extremely large data sets. This trending program provides students with the statistical, mathematical and computational skills needed to meet the large-scale data science challenges of today's professional world. You will learn all the stack required to work in data science industry including cloud infrastructure and real-time industry projects. This course will be taught in Hindi language.\\nthis is my second  line\\n\"\n"
          ]
        }
      ],
      "execution_count": 22
    },
    {
      "id": "0580ae7a-e821-4dd7-9c81-533ddb680e13",
      "cell_type": "code",
      "source": "",
      "metadata": {},
      "outputs": [],
      "execution_count": null
    }
  ]
}