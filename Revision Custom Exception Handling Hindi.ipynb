{
  "metadata": {
    "kernelspec": {
      "name": "python",
      "display_name": "Python (Pyodide)",
      "language": "python"
    },
    "language_info": {
      "codemirror_mode": {
        "name": "python",
        "version": 3
      },
      "file_extension": ".py",
      "mimetype": "text/x-python",
      "name": "python",
      "nbconvert_exporter": "python",
      "pygments_lexer": "ipython3",
      "version": "3.8"
    }
  },
  "nbformat_minor": 5,
  "nbformat": 4,
  "cells": [
    {
      "id": "d6155b30-ec81-49b2-9065-9df43abf575f",
      "cell_type": "code",
      "source": "# although we have differnt class for differnt exceptions. but if there we want to raised an exception which is not in any class. then we can raise it could be any expcetion.\n# We can handle it using the custom exception handelling.",
      "metadata": {
        "trusted": true
      },
      "outputs": [],
      "execution_count": null
    },
    {
      "id": "e0da73fa-4664-465e-b642-c674b85f8563",
      "cell_type": "code",
      "source": "age = int(input(\"enter your age\" ))",
      "metadata": {},
      "outputs": [
        {
          "name": "stdin",
          "output_type": "stream",
          "text": [
            "enter your age -3453\n"
          ]
        }
      ],
      "execution_count": 1
    },
    {
      "id": "8cd952db-3fe5-4652-bac2-8fc75abd5128",
      "cell_type": "code",
      "source": "class validateage(Exception):\n    \n    def __init__(self , msg) : \n        self.msg = msg",
      "metadata": {},
      "outputs": [],
      "execution_count": 2
    },
    {
      "id": "7ef8a918-db9e-485f-8705-3e364bd89e41",
      "cell_type": "code",
      "source": "# In the above code, we created a clas \n# and the we inherite an exception which is itself a super clas in it.",
      "metadata": {
        "trusted": true
      },
      "outputs": [],
      "execution_count": 1
    },
    {
      "id": "e210d7f4-85dd-446d-a03e-2a514e949b5f",
      "cell_type": "code",
      "source": "def validaetage(age) : \n    if age < 0 :\n        raise validateage(\"entered age is negative \" )\n    elif age > 200 : \n        raise validateage(\"enterd age is very very high \" )\n    else :\n        print(\"age is valid\" )",
      "metadata": {},
      "outputs": [],
      "execution_count": 3
    },
    {
      "id": "5f7d0055-ef82-464a-a62c-11bd78c47a92",
      "cell_type": "code",
      "source": "# def validaetage(age) :    # here we created a function and take , age as input.\n#     if age < 0 :\n#         raise validateage(\"entered age is negative \" ) # Here \"raise\" is a keyword and \"validateage\" is a class.\n#     elif age > 200 : \n#         raise validateage(\"enterd age is very very high \" )\n#     else :\n#         print(\"age is valid\" )",
      "metadata": {
        "trusted": true
      },
      "outputs": [],
      "execution_count": null
    },
    {
      "id": "fc6eb13c-e38b-41c5-b552-1cc35552f88d",
      "cell_type": "code",
      "source": "try :\n    age = int(input(\"enter your age\" ))\n    validaetage(age)\nexcept validateage as e :\n    print(e)",
      "metadata": {},
      "outputs": [
        {
          "name": "stdin",
          "output_type": "stream",
          "text": [
            "enter your age 234\n"
          ]
        },
        {
          "name": "stdout",
          "output_type": "stream",
          "text": [
            "enterd age is very very high \n"
          ]
        }
      ],
      "execution_count": 5
    },
    {
      "id": "898a67e0-5108-4ffe-9f3e-95a4cb455648",
      "cell_type": "code",
      "source": "\n# try :\n#     age = int(input(\"enter your age\" )) # Here \"age is input\"\n#     validaetage(age)          # \"validateage\" is a function, age is input\n# except validateage as e :               # Here \"validateage\" is a class in  which \"exception \", superclass is inherited.\n#     print(e)            # depending upon the age \"e\" be the output.\n  # for example; output as e be \"enterd age is very very high \" if age is >200 and \"entered age is negative \"  if age is negative",
      "metadata": {
        "trusted": true
      },
      "outputs": [],
      "execution_count": 2
    },
    {
      "id": "ea3949bb-efc1-4c75-945f-1ab68f3dfc7e",
      "cell_type": "code",
      "source": "",
      "metadata": {},
      "outputs": [],
      "execution_count": null
    }
  ]
}