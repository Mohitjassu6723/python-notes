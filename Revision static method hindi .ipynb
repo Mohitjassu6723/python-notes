{
  "metadata": {
    "kernelspec": {
      "name": "python",
      "display_name": "Python (Pyodide)",
      "language": "python"
    },
    "language_info": {
      "codemirror_mode": {
        "name": "python",
        "version": 3
      },
      "file_extension": ".py",
      "mimetype": "text/x-python",
      "name": "python",
      "nbconvert_exporter": "python",
      "pygments_lexer": "ipython3",
      "version": "3.8"
    }
  },
  "nbformat_minor": 5,
  "nbformat": 4,
  "cells": [
    {
      "id": "e060f21d-1f71-412b-896e-13875cb56621",
      "cell_type": "code",
      "source": "class pwskills :\n    \n    def student_details(self , name , mail_id , number) :  #  As here no decorator like class method   or static method is used. this is a instance method. It don't require any object to acceess its data.\n        print(name , mail_id, number)\n        ",
      "metadata": {
        "trusted": true
      },
      "outputs": [],
      "execution_count": 1
    },
    {
      "id": "fc20f522-a568-40c7-adc0-03b9ca5509ac",
      "cell_type": "code",
      "source": "pw = pwskills()",
      "metadata": {
        "trusted": true
      },
      "outputs": [],
      "execution_count": 2
    },
    {
      "id": "97df5140-0234-493c-a4e7-783fffe92fbe",
      "cell_type": "code",
      "source": "pw.student_details(\"sudh\" , \"sudh@gmail.com\" , 912342342)\n# i.e. instance method requires a variable to access the data",
      "metadata": {
        "trusted": true
      },
      "outputs": [
        {
          "name": "stdout",
          "text": "sudh sudh@gmail.com 912342342\n",
          "output_type": "stream"
        }
      ],
      "execution_count": 4
    },
    {
      "id": "3681ae2f-7ed2-4958-bda9-64484e043fcb",
      "cell_type": "code",
      "source": "",
      "metadata": {
        "trusted": true
      },
      "outputs": [],
      "execution_count": null
    },
    {
      "id": "8d71761f-8796-4cc3-881e-fbe156b01021",
      "cell_type": "code",
      "source": "class pwskills1 :\n    \n    def student_details(self , name , mail_id , number) :# as it is a instance method. So, it it requires the object or the variable. whic leads to the memory coonsumptions \n        print(name , mail_id, number)\n        \n    @staticmethod  #here we used static method as decorator. It don't require any any object to access the data\n    def mentor_class(list_mentor) :\n        print(list_mentor)\n        \n    \n     # static method is used t perform the utilities functions. means it don't use the defineed  to write again and again to avoid the memory  loss.\n        # utilities functions like data data base conectivity, file communiction, database  functions.\n        # utilities functions are those which are used normally. these are repeated again and again, means casually",
      "metadata": {
        "trusted": true
      },
      "outputs": [],
      "execution_count": 7
    },
    {
      "id": "e85e0d40-752b-48e0-9cb9-993fca45f656",
      "cell_type": "code",
      "source": "pwskills1.mentor_class([\"sudh\" , \"krish\"])\n# here \"mentor_class\" is under the static method. So, we didn't require any variable. to acess it. Hence  we get he result",
      "metadata": {
        "trusted": true
      },
      "outputs": [
        {
          "name": "stdout",
          "text": "['sudh', 'krish']\n",
          "output_type": "stream"
        }
      ],
      "execution_count": 6
    },
    {
      "id": "12330cbd-8b44-4b68-a2e0-b6f928938ae0",
      "cell_type": "code",
      "source": "class pwskills1 :\n    \n    def student_details(self , name , mail_id , number) :\n        print(name , mail_id, number)\n        \n    @staticmethod\n    def mentor_class(list_mentor) :\n        print(list_mentor)\n        \n    def mentor(self ,mentor_list):\n        print(mentor_list)\n        ",
      "metadata": {
        "trusted": true
      },
      "outputs": [],
      "execution_count": 10
    },
    {
      "id": "718846a5-b9be-4046-996c-00fc6ded9e33",
      "cell_type": "code",
      "source": "stu1 = pwskills1()\n# memory loss due to the coping of class, \"pwskills1\" .",
      "metadata": {
        "trusted": true
      },
      "outputs": [],
      "execution_count": 11
    },
    {
      "id": "4b83b370-0fec-48a5-869f-99f9733a200b",
      "cell_type": "code",
      "source": "stu2 = pwskills1()\n# memory loss as the object are created time by again due to the creation of static functions",
      "metadata": {
        "trusted": true
      },
      "outputs": [],
      "execution_count": 12
    },
    {
      "id": "f2c243af-1b4a-4d76-a4d0-d9b6c3f3d460",
      "cell_type": "code",
      "source": "stu3 = pwskills1()",
      "metadata": {
        "trusted": true
      },
      "outputs": [],
      "execution_count": 13
    },
    {
      "id": "07e46235-0d6d-47b2-ad11-065aa571e4bf",
      "cell_type": "code",
      "source": "stu1.mentor([\"sudh\" , \"krish\"])\n# As the mentor function is a class instance. So, it requires the object to give the output",
      "metadata": {
        "trusted": true
      },
      "outputs": [
        {
          "name": "stdout",
          "text": "['sudh', 'krish']\n",
          "output_type": "stream"
        }
      ],
      "execution_count": 14
    },
    {
      "id": "434d0dbe-fde6-49d3-94da-bcd9d8a1f9b2",
      "cell_type": "code",
      "source": "class pwskills2 :\n    \n    def student_details(self , name , mail_id , number) :\n        print(name , mail_id, number)\n        \n    @staticmethod\n    def mentor_mail_id(maild_id_mentor) :\n        print(maild_id_mentor)    \n        \n    @staticmethod\n    def mentor_class(list_mentor) :\n        pwskills2.mentor_mail_id([\"sudh@gmail.com\" , \"krish@gmail.com\"])\n        print(list_mentor)\n        \n    @classmethod\n    def class_name(cls):\n        cls.mentor_class([\"sudh\" , \"krish\"])\n        \n        \n        \n    def mentor(self ,mentor_list):\n        print(mentor_list)\n        self.mentor_class([\"krish\" , \"sudh\"])",
      "metadata": {
        "trusted": true
      },
      "outputs": [],
      "execution_count": 16
    },
    {
      "id": "19a30787-dbf6-4ad7-8b38-aa7d351e6176",
      "cell_type": "code",
      "source": "pwskills2.mentor_class([\"krish\" , \"sudh\"])",
      "metadata": {
        "trusted": true
      },
      "outputs": [
        {
          "name": "stdout",
          "text": "['sudh@gmail.com', 'krish@gmail.com']\n['krish', 'sudh']\n",
          "output_type": "stream"
        }
      ],
      "execution_count": 17
    },
    {
      "id": "52931bd1-3111-413e-8a03-3be0ab95496b",
      "cell_type": "code",
      "source": "pwskills2.class_name()",
      "metadata": {
        "trusted": true
      },
      "outputs": [
        {
          "name": "stdout",
          "text": "['sudh@gmail.com', 'krish@gmail.com']\n['sudh', 'krish']\n",
          "output_type": "stream"
        }
      ],
      "execution_count": 18
    },
    {
      "id": "6804f9b0-67fe-43fb-8050-22e752ec3307",
      "cell_type": "code",
      "source": "pw = pwskills2()",
      "metadata": {
        "trusted": true
      },
      "outputs": [],
      "execution_count": 19
    },
    {
      "id": "1c4c7a15-e0b8-4eb5-8e58-ec5f2ef59652",
      "cell_type": "code",
      "source": "pw.mentor([\"krish\" , \"sudh\"])",
      "metadata": {
        "trusted": true
      },
      "outputs": [
        {
          "name": "stdout",
          "text": "['krish', 'sudh']\n['sudh@gmail.com', 'krish@gmail.com']\n['krish', 'sudh']\n",
          "output_type": "stream"
        }
      ],
      "execution_count": 20
    },
    {
      "id": "c3162c06-e657-4b93-8c31-fd2d53398cb0",
      "cell_type": "code",
      "source": "pwskills2.student_details(\"Mohit\", \"mohitjassu6723@gmail.com\", 12342)\n# because \"student_details\" is a instance function so it require a variable to access the data.",
      "metadata": {
        "trusted": true
      },
      "outputs": [
        {
          "ename": "<class 'TypeError'>",
          "evalue": "pwskills2.student_details() missing 1 required positional argument: 'number'",
          "traceback": [
            "\u001b[0;31m---------------------------------------------------------------------------\u001b[0m",
            "\u001b[0;31mTypeError\u001b[0m                                 Traceback (most recent call last)",
            "Cell \u001b[0;32mIn[22], line 1\u001b[0m\n\u001b[0;32m----> 1\u001b[0m \u001b[43mpwskills2\u001b[49m\u001b[38;5;241;43m.\u001b[39;49m\u001b[43mstudent_details\u001b[49m\u001b[43m(\u001b[49m\u001b[38;5;124;43m\"\u001b[39;49m\u001b[38;5;124;43mMohit\u001b[39;49m\u001b[38;5;124;43m\"\u001b[39;49m\u001b[43m,\u001b[49m\u001b[43m \u001b[49m\u001b[38;5;124;43m\"\u001b[39;49m\u001b[38;5;124;43mmohitjassu6723@gmail.com\u001b[39;49m\u001b[38;5;124;43m\"\u001b[39;49m\u001b[43m,\u001b[49m\u001b[43m \u001b[49m\u001b[38;5;241;43m12342\u001b[39;49m\u001b[43m)\u001b[49m\n\u001b[1;32m      2\u001b[0m \u001b[38;5;66;03m# because \"student_details\" is a instance function so it require a variable to access the data.\u001b[39;00m\n",
            "\u001b[0;31mTypeError\u001b[0m: pwskills2.student_details() missing 1 required positional argument: 'number'"
          ],
          "output_type": "error"
        }
      ],
      "execution_count": 22
    },
    {
      "id": "0c8cd3d4-1ce2-4c64-b094-4ee8e3c5ed36",
      "cell_type": "code",
      "source": "class pwskills2 :\n    \n    def student_details(self , name , mail_id , number) :\n        print(name , mail_id, number)\n        \n    \n    @staticmethod\n    def mentor_class(list_mentor) :\n        print(list_mentor)\n        \n    @classmethod            #It is a class method\n    def class_name(cls):\n        cls.mentor_class([\"sudh\" , \"krish\"])   #\"mentor_class\" is a static method. Here we are accessing a static method in the class method.\n        \n        \n        \n    def mentor(self ,mentor_list):\n        print(mentor_list)\n        self.mentor_class([\"krish\" , \"sudh\"])",
      "metadata": {
        "trusted": true
      },
      "outputs": [],
      "execution_count": 38
    },
    {
      "id": "b938baa7-83c2-4bff-a19b-68dedb194966",
      "cell_type": "code",
      "source": "pwskills2.class_name()",
      "metadata": {
        "trusted": true
      },
      "outputs": [
        {
          "name": "stdout",
          "text": "['sudh', 'krish']\n",
          "output_type": "stream"
        }
      ],
      "execution_count": 39
    },
    {
      "id": "4e88c2b0-ad7d-4d06-8620-fba06c1beb85",
      "cell_type": "code",
      "source": "class pwskills2 :\n    \n    def student_details(self , name , mail_id , number) :\n        print(name , mail_id, number)\n        \n    @staticmethod\n    def mentor_mail_id(maild_id_mentor) :\n        print(maild_id_mentor)    \n        \n    @staticmethod\n    def mentor_class(list_mentor) :\n        pwskills2.mentor_mail_id([\"sudh@gmail.com\" , \"krish@gmail.com\"]) #Here we are accessing a static method insde the static method\n        print(list_mentor)\n        \n    @classmethod\n    def class_name(cls):\n        cls.mentor_class([\"sudh\" , \"krish\"])\n        \n        \n        \n    def mentor(self ,mentor_list):\n        print(mentor_list)\n        self.mentor_class([\"krish\" , \"sudh\"])",
      "metadata": {
        "trusted": true
      },
      "outputs": [],
      "execution_count": 40
    },
    {
      "id": "969d92eb-c30e-4465-ac92-4f9203d3cca5",
      "cell_type": "code",
      "source": "pwskills2.class_name()",
      "metadata": {
        "trusted": true
      },
      "outputs": [
        {
          "name": "stdout",
          "text": "['sudh@gmail.com', 'krish@gmail.com']\n['sudh', 'krish']\n",
          "output_type": "stream"
        }
      ],
      "execution_count": 33
    },
    {
      "id": "f527d994-541d-49f6-8907-d37a2fe2d414",
      "cell_type": "code",
      "source": "class pwskills2 :\n    \n    def student_details(self , name , mail_id , number) :\n        print(name , mail_id, number)\n        \n    @staticmethod\n    def mentor_mail_id(maild_id_mentor) :\n        print(maild_id_mentor)    \n        \n    @staticmethod\n    def mentor_class(list_mentor) :\n        pwskills2.mentor_mail_id([\"sudh@gmail.com\" , \"krish@gmail.com\"]) # Here we are accessing a static method inside a static method.\n        print(list_mentor)\n        \n    @classmethod\n    def class_name(cls):\n        cls.mentor_class([\"sudh\" , \"krish\"])\n        \n        \n        \n    def mentor(self ,mentor_list):\n        print(mentor_list)\n        self.mentor_class([\"krish\" , \"sudh\"])",
      "metadata": {
        "trusted": true
      },
      "outputs": [],
      "execution_count": 41
    },
    {
      "id": "0549abff-c02a-4c2e-9089-7f13a126c5c0",
      "cell_type": "code",
      "source": "pwskills2.mentor_class([\"krish\" , \"sudh\"])",
      "metadata": {
        "trusted": true
      },
      "outputs": [
        {
          "name": "stdout",
          "text": "['sudh@gmail.com', 'krish@gmail.com']\n['krish', 'sudh']\n",
          "output_type": "stream"
        }
      ],
      "execution_count": 45
    },
    {
      "id": "4b09ee3c-40a7-4e75-b5d2-d6172918006f",
      "cell_type": "code",
      "source": "class pwskills2 :\n    \n    def student_details(self , name , mail_id , number) :\n        print(name , mail_id, number)\n        \n    @staticmethod\n    def mentor_mail_id(maild_id_mentor) :\n        print(maild_id_mentor)    \n        \n    @staticmethod\n    def mentor_class(list_mentor) :\n        pwskills2.mentor_mail_id([\"sudh@gmail.com\" , \"krish@gmail.com\"]) \n        print(list_mentor)\n        \n    @classmethod\n    def class_name(cls):\n        cls.mentor_class([\"sudh\" , \"krish\"])\n        \n        \n        \n    def mentor(self ,mentor_list):\n        print(mentor_list)\n        self.mentor_class([\"krish\" , \"sudh\"])  # Here we are accessing a static method inside the instance method.",
      "metadata": {
        "trusted": true
      },
      "outputs": [],
      "execution_count": 46
    },
    {
      "id": "a636a827-146b-4fab-9774-87d68625ea47",
      "cell_type": "code",
      "source": "pw = pwskills2()\n# As we are accessing a static method inside the instance method or method instance to class. so, we need a variable or object.",
      "metadata": {
        "trusted": true
      },
      "outputs": [],
      "execution_count": 47
    },
    {
      "id": "6c2571ad-6bff-443e-9642-c9f434b90ce4",
      "cell_type": "code",
      "source": "pw.mentor([\"krish\" , \"sudh\"])",
      "metadata": {
        "trusted": true
      },
      "outputs": [
        {
          "name": "stdout",
          "text": "['krish', 'sudh']\n['sudh@gmail.com', 'krish@gmail.com']\n['krish', 'sudh']\n",
          "output_type": "stream"
        }
      ],
      "execution_count": 48
    },
    {
      "id": "c559c3ad-07fd-4f49-97a0-457eebb81d88",
      "cell_type": "code",
      "source": "",
      "metadata": {
        "trusted": true
      },
      "outputs": [],
      "execution_count": null
    }
  ]
}