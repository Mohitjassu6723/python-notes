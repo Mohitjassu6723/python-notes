{
  "metadata": {
    "kernelspec": {
      "name": "python",
      "display_name": "Python (Pyodide)",
      "language": "python"
    },
    "language_info": {
      "codemirror_mode": {
        "name": "python",
        "version": 3
      },
      "file_extension": ".py",
      "mimetype": "text/x-python",
      "name": "python",
      "nbconvert_exporter": "python",
      "pygments_lexer": "ipython3",
      "version": "3.8"
    }
  },
  "nbformat_minor": 5,
  "nbformat": 4,
  "cells": [
    {
      "id": "0cd0c945-11f8-42ba-8663-cbdde94464ff",
      "cell_type": "code",
      "source": "# encpsulation is done to hide the variable so that the other use will not access it nd modify it.",
      "metadata": {
        "trusted": true
      },
      "outputs": [],
      "execution_count": 1
    },
    {
      "id": "3bca068f-c962-4034-aa20-c997b24f475b",
      "cell_type": "code",
      "source": "class test : \n    \n    \n    def __init__(self , a, b ):\n        self.a = a \n        self.b = b",
      "metadata": {},
      "outputs": [],
      "execution_count": 1
    },
    {
      "id": "68b38a39-e5f5-44de-8403-6fe8d4577470",
      "cell_type": "code",
      "source": "t = test(23,34)",
      "metadata": {},
      "outputs": [],
      "execution_count": 2
    },
    {
      "id": "643bd816-8357-43b0-9c87-9a5c7e9556b5",
      "cell_type": "code",
      "source": "t.a = 2345345",
      "metadata": {},
      "outputs": [],
      "execution_count": 3
    },
    {
      "id": "7fbcb179-6533-4dbb-9834-7e138b323624",
      "cell_type": "code",
      "source": "t.a",
      "metadata": {},
      "outputs": [
        {
          "data": {
            "text/plain": [
              "2345345"
            ]
          },
          "execution_count": 4,
          "metadata": {},
          "output_type": "execute_result"
        }
      ],
      "execution_count": 4
    },
    {
      "id": "53379855-b48d-4c7c-9673-d490dd779205",
      "cell_type": "code",
      "source": "class car :\n    def __init__(self , year , make , model, speed ) : \n        \n        self.__year = year    #this double underscore before year is to for encapsulation\n        self.__make = make\n        self.__model = model\n        self.__speed = 0\n        \n    def set_speed(self,speed) : \n        self.__speed = 0 if speed < 0 else speed\n        \n    def get_speed(self)  : \n        return self.__speed",
      "metadata": {
        "trusted": true
      },
      "outputs": [],
      "execution_count": 1
    },
    {
      "id": "c0699344-d923-4f3c-99aa-7a40c6e42315",
      "cell_type": "code",
      "source": "# Here we use the set nad get feature to avoid the direct contact of user over the code.\n# now the user will acess the set and the get.\n# if we donot use this set and the get, the user will not access the code direcly and indirectly.",
      "metadata": {
        "trusted": true
      },
      "outputs": [],
      "execution_count": 2
    },
    {
      "id": "be75eff7-659f-4e32-9513-86971fac409d",
      "cell_type": "code",
      "source": "c = car(2021 , \"toyata\" , \"innova\" , 12)",
      "metadata": {
        "trusted": true
      },
      "outputs": [],
      "execution_count": 3
    },
    {
      "id": "7af43f63-b40d-42c0-aeee-ce63f6c5ff0b",
      "cell_type": "code",
      "source": "c._car__year",
      "metadata": {
        "trusted": true
      },
      "outputs": [
        {
          "execution_count": 4,
          "output_type": "execute_result",
          "data": {
            "text/plain": "2021"
          },
          "metadata": {}
        }
      ],
      "execution_count": 4
    },
    {
      "id": "23c532a9-177b-49e1-beab-8517cf30e93b",
      "cell_type": "code",
      "source": "c.set_speed(-3245)",
      "metadata": {
        "trusted": true
      },
      "outputs": [],
      "execution_count": 5
    },
    {
      "id": "9be5dbc9-e042-41c3-82d5-a4cd78fc4c57",
      "cell_type": "code",
      "source": "c.get_speed()",
      "metadata": {
        "trusted": true
      },
      "outputs": [
        {
          "execution_count": 6,
          "output_type": "execute_result",
          "data": {
            "text/plain": "0"
          },
          "metadata": {}
        }
      ],
      "execution_count": 6
    },
    {
      "id": "05fa69e0-c2f5-401e-9d31-779de8c3cc67",
      "cell_type": "code",
      "source": "c.set_speed(234)",
      "metadata": {
        "trusted": true
      },
      "outputs": [],
      "execution_count": 7
    },
    {
      "id": "9280c23c-fefa-4913-9573-41bf21ed3bfd",
      "cell_type": "code",
      "source": "c.get_speed()",
      "metadata": {
        "trusted": true
      },
      "outputs": [
        {
          "execution_count": 8,
          "output_type": "execute_result",
          "data": {
            "text/plain": "234"
          },
          "metadata": {}
        }
      ],
      "execution_count": 8
    },
    {
      "id": "ffca1efa-a700-4c9f-aed7-c27ebe1a16e3",
      "cell_type": "code",
      "source": "class bank_account : \n    def __init__(self , balance) : \n        self.__balanace = balance \n        \n    def deposit(self , amount) : \n        self.__balanace = self.__balanace + amount\n        \n    def withdaw(self ,amount) : \n        if self.__balanace >= amount :\n            self.__balanace = self.__balanace - amount\n            return True\n        else : \n            return False\n    \n    def get_banalnce(self):\n        return self.__balanace\n                  ",
      "metadata": {
        "trusted": true
      },
      "outputs": [],
      "execution_count": 9
    },
    {
      "id": "59a4a4b6-610a-414a-8aa4-dcc3c5b43145",
      "cell_type": "code",
      "source": "sudh = bank_account(1000)",
      "metadata": {
        "trusted": true
      },
      "outputs": [],
      "execution_count": 10
    },
    {
      "id": "1c1c86fe-1f4d-41e7-961c-078effe21152",
      "cell_type": "code",
      "source": "sudh.get_banalnce()",
      "metadata": {
        "trusted": true
      },
      "outputs": [
        {
          "execution_count": 11,
          "output_type": "execute_result",
          "data": {
            "text/plain": "1000"
          },
          "metadata": {}
        }
      ],
      "execution_count": 11
    },
    {
      "id": "5fc6f3e3-406a-452f-b42d-79c956ee1662",
      "cell_type": "code",
      "source": "sudh.deposit(5000)",
      "metadata": {
        "trusted": true
      },
      "outputs": [],
      "execution_count": 12
    },
    {
      "id": "09d4e0dd-b52f-4359-ace5-8da621beb1a4",
      "cell_type": "code",
      "source": "sudh.get_banalnce()",
      "metadata": {
        "trusted": true
      },
      "outputs": [
        {
          "execution_count": 13,
          "output_type": "execute_result",
          "data": {
            "text/plain": "6000"
          },
          "metadata": {}
        }
      ],
      "execution_count": 13
    },
    {
      "id": "1d82bb14-275c-4098-9a3b-f253097b5277",
      "cell_type": "code",
      "source": "sudh.deposit(1000)",
      "metadata": {
        "trusted": true
      },
      "outputs": [],
      "execution_count": 14
    },
    {
      "id": "3f34a7a2-ce66-4afc-93cb-709809102caf",
      "cell_type": "code",
      "source": "sudh.get_banalnce()",
      "metadata": {
        "trusted": true
      },
      "outputs": [
        {
          "execution_count": 15,
          "output_type": "execute_result",
          "data": {
            "text/plain": "7000"
          },
          "metadata": {}
        }
      ],
      "execution_count": 15
    },
    {
      "id": "f476edd3-0106-430e-88fb-fd8e3ebc2898",
      "cell_type": "code",
      "source": "sudh.withdaw(9000)",
      "metadata": {
        "trusted": true
      },
      "outputs": [
        {
          "execution_count": 16,
          "output_type": "execute_result",
          "data": {
            "text/plain": "False"
          },
          "metadata": {}
        }
      ],
      "execution_count": 16
    },
    {
      "id": "b3c5b9a8-2156-4cd5-9d6a-bf7e4c7c1d5a",
      "cell_type": "code",
      "source": "sudh.withdaw(2000)",
      "metadata": {
        "trusted": true
      },
      "outputs": [
        {
          "execution_count": 17,
          "output_type": "execute_result",
          "data": {
            "text/plain": "True"
          },
          "metadata": {}
        }
      ],
      "execution_count": 17
    },
    {
      "id": "aa871cd4-4c02-48dd-b1ef-a18195234eb9",
      "cell_type": "code",
      "source": "sudh.get_banalnce()",
      "metadata": {
        "trusted": true
      },
      "outputs": [
        {
          "execution_count": 18,
          "output_type": "execute_result",
          "data": {
            "text/plain": "5000"
          },
          "metadata": {}
        }
      ],
      "execution_count": 18
    },
    {
      "id": "034c1723-b200-4b3b-afca-fd46606a70ba",
      "cell_type": "code",
      "source": "",
      "metadata": {
        "trusted": true
      },
      "outputs": [],
      "execution_count": null
    },
    {
      "id": "cd026f92-ccef-49a2-a8cb-39d630dd581f",
      "cell_type": "code",
      "source": "",
      "metadata": {
        "trusted": true
      },
      "outputs": [],
      "execution_count": null
    },
    {
      "id": "42306d69-c8af-4ec6-8f07-7f1cdeb5abb7",
      "cell_type": "code",
      "source": "",
      "metadata": {
        "trusted": true
      },
      "outputs": [],
      "execution_count": null
    },
    {
      "id": "e2edc934-0252-4bcc-95c7-4699dae1bc88",
      "cell_type": "code",
      "source": "",
      "metadata": {
        "trusted": true
      },
      "outputs": [],
      "execution_count": null
    },
    {
      "id": "e5fcb266-845e-4971-b46f-dd02cd0758af",
      "cell_type": "code",
      "source": "",
      "metadata": {
        "trusted": true
      },
      "outputs": [],
      "execution_count": null
    },
    {
      "id": "ef2ecd73-c1d4-4382-9c61-4323bcd8daef",
      "cell_type": "code",
      "source": "",
      "metadata": {
        "trusted": true
      },
      "outputs": [],
      "execution_count": null
    }
  ]
}